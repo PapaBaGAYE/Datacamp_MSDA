{
 "cells": [
  {
   "cell_type": "code",
   "execution_count": 2,
   "metadata": {},
   "outputs": [],
   "source": [
    "import pandas as pd\n",
    "import pickle"
   ]
  },
  {
   "cell_type": "code",
   "execution_count": 2,
   "metadata": {},
   "outputs": [],
   "source": [
    "#terror_data = pd.read_csv(\"data/cleaned/terror.csv\", encoding = \"ISO-8859-1\")"
   ]
  },
  {
   "cell_type": "code",
   "execution_count": 3,
   "metadata": {},
   "outputs": [],
   "source": [
    "#terror_data.columns.to_list()"
   ]
  },
  {
   "cell_type": "markdown",
   "metadata": {},
   "source": [
    "## Identification variables pertinentes"
   ]
  },
  {
   "cell_type": "code",
   "execution_count": 4,
   "metadata": {},
   "outputs": [],
   "source": [
    "variables_pertinentes = ['iyear', 'iday', 'imonth', 'nkill', 'country_txt', 'nwound', 'region_txt', 'provstate',\n",
    "                         'city', 'nkillus', 'nwoundus', 'region_txt', 'latitude', 'longitude',\n",
    "                         'attacktype1_txt', 'alternative_txt', 'suicide', 'ransompaid', 'nhostkid', 'hostkidoutcome_txt'\n",
    "                         , 'ransomnote', 'nhours', 'ndays', 'ransompaidus', 'nhostkidus', 'summary', 'motive', 'gname'\n",
    "                         , 'natlty1_txt', 'kidhijcountry', 'weaptype1_txt', 'weapsubtype1_txt', 'weaptype2_txt', 'weapsubtype2_txt', 'weaptype3_txt', 'weapsubtype3_txt'\n",
    "                         , 'weaptype4_txt', 'weapsubtype4_txt', 'targtype1_txt', 'targsubtype1_txt', 'targtype2_txt', 'targsubtype2_txt', 'targtype3_txt', 'targsubtype3_txt'\n",
    "                         , 'claimmode_txt', 'propextent_txt', 'propextent', 'propvalue', 'dbsource'\n",
    "                         ]"
   ]
  },
  {
   "cell_type": "code",
   "execution_count": 5,
   "metadata": {},
   "outputs": [],
   "source": [
    "#new_data = terror_data[variables_pertinentes]"
   ]
  },
  {
   "cell_type": "code",
   "execution_count": 6,
   "metadata": {},
   "outputs": [],
   "source": [
    "#new_data.to_csv(\"data/cleaned/terror.csv\", index = False)"
   ]
  },
  {
   "cell_type": "code",
   "execution_count": 2,
   "metadata": {},
   "outputs": [],
   "source": [
    "new_data = pd.read_csv(\"packages/data/cleaned/terror.csv\")"
   ]
  },
  {
   "cell_type": "code",
   "execution_count": 4,
   "metadata": {},
   "outputs": [
    {
     "data": {
      "text/plain": [
       "Index(['iyear', 'iday', 'imonth', 'nkill', 'country_txt', 'nwound',\n",
       "       'region_txt', 'provstate', 'city', 'nkillus', 'nwoundus',\n",
       "       'region_txt.1', 'latitude', 'longitude', 'attacktype1_txt',\n",
       "       'alternative_txt', 'suicide', 'ransompaid', 'nhostkid',\n",
       "       'hostkidoutcome_txt', 'ransomnote', 'nhours', 'ndays', 'ransompaidus',\n",
       "       'nhostkidus', 'summary', 'motive', 'gname', 'natlty1_txt',\n",
       "       'kidhijcountry', 'weaptype1_txt', 'weapsubtype1_txt', 'weaptype2_txt',\n",
       "       'weapsubtype2_txt', 'weaptype3_txt', 'weapsubtype3_txt',\n",
       "       'weaptype4_txt', 'weapsubtype4_txt', 'targtype1_txt',\n",
       "       'targsubtype1_txt', 'targtype2_txt', 'targsubtype2_txt',\n",
       "       'targtype3_txt', 'targsubtype3_txt', 'claimmode_txt', 'propextent_txt',\n",
       "       'propextent', 'propvalue', 'dbsource', 'date'],\n",
       "      dtype='object')"
      ]
     },
     "execution_count": 4,
     "metadata": {},
     "output_type": "execute_result"
    }
   ],
   "source": [
    "new_data.columns"
   ]
  },
  {
   "cell_type": "code",
   "execution_count": 5,
   "metadata": {},
   "outputs": [
    {
     "name": "stdout",
     "output_type": "stream",
     "text": [
      "<class 'pandas.core.frame.DataFrame'>\n",
      "RangeIndex: 180800 entries, 0 to 180799\n",
      "Data columns (total 50 columns):\n",
      " #   Column              Non-Null Count   Dtype  \n",
      "---  ------              --------------   -----  \n",
      " 0   iyear               180800 non-null  int64  \n",
      " 1   iday                180800 non-null  int64  \n",
      " 2   imonth              180800 non-null  int64  \n",
      " 3   nkill               180800 non-null  float64\n",
      " 4   country_txt         180800 non-null  object \n",
      " 5   nwound              180800 non-null  float64\n",
      " 6   region_txt          180800 non-null  object \n",
      " 7   provstate           180800 non-null  object \n",
      " 8   city                180800 non-null  object \n",
      " 9   nkillus             180800 non-null  float64\n",
      " 10  nwoundus            180800 non-null  float64\n",
      " 11  region_txt.1        180800 non-null  object \n",
      " 12  latitude            180800 non-null  float64\n",
      " 13  longitude           180800 non-null  float64\n",
      " 14  attacktype1_txt     180800 non-null  object \n",
      " 15  alternative_txt     180800 non-null  object \n",
      " 16  suicide             180800 non-null  int64  \n",
      " 17  ransompaid          180800 non-null  float64\n",
      " 18  nhostkid            180800 non-null  float64\n",
      " 19  hostkidoutcome_txt  180800 non-null  object \n",
      " 20  ransomnote          180800 non-null  object \n",
      " 21  nhours              180800 non-null  float64\n",
      " 22  ndays               180800 non-null  float64\n",
      " 23  ransompaidus        180800 non-null  float64\n",
      " 24  nhostkidus          180800 non-null  float64\n",
      " 25  summary             180800 non-null  object \n",
      " 26  motive              180800 non-null  object \n",
      " 27  gname               180800 non-null  object \n",
      " 28  natlty1_txt         180800 non-null  object \n",
      " 29  kidhijcountry       180800 non-null  object \n",
      " 30  weaptype1_txt       180800 non-null  object \n",
      " 31  weapsubtype1_txt    180800 non-null  object \n",
      " 32  weaptype2_txt       180800 non-null  object \n",
      " 33  weapsubtype2_txt    180800 non-null  object \n",
      " 34  weaptype3_txt       180800 non-null  object \n",
      " 35  weapsubtype3_txt    180800 non-null  object \n",
      " 36  weaptype4_txt       180800 non-null  object \n",
      " 37  weapsubtype4_txt    180800 non-null  object \n",
      " 38  targtype1_txt       180800 non-null  object \n",
      " 39  targsubtype1_txt    180800 non-null  object \n",
      " 40  targtype2_txt       180800 non-null  object \n",
      " 41  targsubtype2_txt    180800 non-null  object \n",
      " 42  targtype3_txt       180800 non-null  object \n",
      " 43  targsubtype3_txt    180800 non-null  object \n",
      " 44  claimmode_txt       180800 non-null  object \n",
      " 45  propextent_txt      180800 non-null  object \n",
      " 46  propextent          180800 non-null  float64\n",
      " 47  propvalue           180800 non-null  float64\n",
      " 48  dbsource            180800 non-null  object \n",
      " 49  date                180800 non-null  object \n",
      "dtypes: float64(14), int64(4), object(32)\n",
      "memory usage: 46.9+ MB\n"
     ]
    }
   ],
   "source": [
    "new_data.info(verbose=True)"
   ]
  },
  {
   "cell_type": "markdown",
   "metadata": {},
   "source": [
    "## Nombre de lignes et de colonnes"
   ]
  },
  {
   "cell_type": "code",
   "execution_count": 6,
   "metadata": {},
   "outputs": [
    {
     "data": {
      "text/plain": [
       "(180800, 50)"
      ]
     },
     "execution_count": 6,
     "metadata": {},
     "output_type": "execute_result"
    }
   ],
   "source": [
    "# nombre de colonnes et de lignes\n",
    "new_data.shape"
   ]
  },
  {
   "cell_type": "markdown",
   "metadata": {},
   "source": [
    "On a 49 variables et 181691 observations dans le jeu de données"
   ]
  },
  {
   "cell_type": "markdown",
   "metadata": {},
   "source": [
    "## Ajoutons une nouvelle colonne date qui va nous permettre de classer directement par date les observations"
   ]
  },
  {
   "cell_type": "code",
   "execution_count": 79,
   "metadata": {},
   "outputs": [
    {
     "data": {
      "text/plain": [
       "array([ 1,  2,  3,  6,  8,  9, 10, 11, 12, 13, 14, 15, 19, 20, 21, 22, 25,\n",
       "       26, 27, 28, 30, 31,  4,  7, 16, 17, 18, 23, 24,  5, 29],\n",
       "      dtype=int64)"
      ]
     },
     "execution_count": 79,
     "metadata": {},
     "output_type": "execute_result"
    }
   ],
   "source": [
    "# further we must see if the column iday, imonth and iyear can be concatenated\n",
    "new_data[\"iday\"].unique()"
   ]
  },
  {
   "cell_type": "code",
   "execution_count": 80,
   "metadata": {},
   "outputs": [
    {
     "data": {
      "text/plain": [
       "array([ 1,  2,  3,  4,  5,  6,  7,  8,  9, 10, 11, 12], dtype=int64)"
      ]
     },
     "execution_count": 80,
     "metadata": {},
     "output_type": "execute_result"
    }
   ],
   "source": [
    "new_data[\"imonth\"].unique()"
   ]
  },
  {
   "cell_type": "code",
   "execution_count": 81,
   "metadata": {},
   "outputs": [
    {
     "data": {
      "text/plain": [
       "array([1970, 1971, 1972, 1973, 1974, 1975, 1976, 1977, 1978, 1979, 1980,\n",
       "       1981, 1982, 1983, 1984, 1985, 1986, 1987, 1988, 1989, 1990, 1991,\n",
       "       1992, 1994, 1995, 1996, 1997, 1998, 1999, 2000, 2001, 2002, 2003,\n",
       "       2004, 2005, 2006, 2007, 2008, 2009, 2010, 2011, 2012, 2013, 2014,\n",
       "       2015, 2016, 2017], dtype=int64)"
      ]
     },
     "execution_count": 81,
     "metadata": {},
     "output_type": "execute_result"
    }
   ],
   "source": [
    "new_data[\"iyear\"].unique()"
   ]
  },
  {
   "cell_type": "code",
   "execution_count": 82,
   "metadata": {},
   "outputs": [
    {
     "data": {
      "text/plain": [
       "0"
      ]
     },
     "execution_count": 82,
     "metadata": {},
     "output_type": "execute_result"
    }
   ],
   "source": [
    "new_data[(new_data[\"iday\"] == 0)].index.__len__()"
   ]
  },
  {
   "cell_type": "code",
   "execution_count": 83,
   "metadata": {},
   "outputs": [
    {
     "data": {
      "text/plain": [
       "0"
      ]
     },
     "execution_count": 83,
     "metadata": {},
     "output_type": "execute_result"
    }
   ],
   "source": [
    "new_data[(new_data[\"imonth\"] == 0)].index.__len__()"
   ]
  },
  {
   "cell_type": "code",
   "execution_count": 84,
   "metadata": {},
   "outputs": [],
   "source": [
    "# Let's remove some lines by the indexes\n",
    "new_data.drop(index = new_data[(new_data[\"iday\"] == 0)].index, axis = 0, inplace = True)"
   ]
  },
  {
   "cell_type": "code",
   "execution_count": 85,
   "metadata": {},
   "outputs": [
    {
     "data": {
      "text/plain": [
       "array([ 1,  2,  3,  6,  8,  9, 10, 11, 12, 13, 14, 15, 19, 20, 21, 22, 25,\n",
       "       26, 27, 28, 30, 31,  4,  7, 16, 17, 18, 23, 24,  5, 29],\n",
       "      dtype=int64)"
      ]
     },
     "execution_count": 85,
     "metadata": {},
     "output_type": "execute_result"
    }
   ],
   "source": [
    "new_data[\"iday\"].unique()"
   ]
  },
  {
   "cell_type": "code",
   "execution_count": 86,
   "metadata": {},
   "outputs": [],
   "source": [
    "# create a new column named as date\n",
    "new_data['date'] = new_data[\"iyear\"].astype(\"str\") + \"-\" + new_data[\"imonth\"].astype(\"str\") + \"-\" + new_data[\"iday\"].astype(\"str\")"
   ]
  },
  {
   "cell_type": "code",
   "execution_count": 87,
   "metadata": {},
   "outputs": [
    {
     "data": {
      "text/plain": [
       "0           1970-1-1\n",
       "1           1970-1-1\n",
       "2           1970-1-2\n",
       "3           1970-1-2\n",
       "4           1970-1-2\n",
       "             ...    \n",
       "180795    2017-12-31\n",
       "180796    2017-12-31\n",
       "180797    2017-12-31\n",
       "180798    2017-12-31\n",
       "180799    2017-12-31\n",
       "Name: date, Length: 180800, dtype: object"
      ]
     },
     "execution_count": 87,
     "metadata": {},
     "output_type": "execute_result"
    }
   ],
   "source": [
    "new_data[\"date\"]"
   ]
  },
  {
   "cell_type": "code",
   "execution_count": 88,
   "metadata": {},
   "outputs": [],
   "source": [
    "# transformation de la colonne en format date_time\n",
    "new_data[\"date\"] = pd.to_datetime(new_data['date'])"
   ]
  },
  {
   "cell_type": "code",
   "execution_count": 89,
   "metadata": {},
   "outputs": [],
   "source": [
    "new_data.sort_values('date', inplace=True)"
   ]
  },
  {
   "cell_type": "code",
   "execution_count": 90,
   "metadata": {},
   "outputs": [
    {
     "data": {
      "text/plain": [
       "dtype('<M8[ns]')"
      ]
     },
     "execution_count": 90,
     "metadata": {},
     "output_type": "execute_result"
    }
   ],
   "source": [
    "new_data[\"date\"].dtype"
   ]
  },
  {
   "cell_type": "code",
   "execution_count": 91,
   "metadata": {},
   "outputs": [
    {
     "data": {
      "text/plain": [
       "0        1970-01-01\n",
       "1        1970-01-01\n",
       "2        1970-01-02\n",
       "3        1970-01-02\n",
       "4        1970-01-02\n",
       "            ...    \n",
       "180776   2017-12-31\n",
       "180775   2017-12-31\n",
       "180798   2017-12-31\n",
       "180786   2017-12-31\n",
       "180799   2017-12-31\n",
       "Name: date, Length: 180800, dtype: datetime64[ns]"
      ]
     },
     "execution_count": 91,
     "metadata": {},
     "output_type": "execute_result"
    }
   ],
   "source": [
    "new_data['date']"
   ]
  },
  {
   "cell_type": "markdown",
   "metadata": {},
   "source": [
    "## Traitement des valeurs manquantes"
   ]
  },
  {
   "cell_type": "code",
   "execution_count": 11,
   "metadata": {},
   "outputs": [
    {
     "data": {
      "text/plain": [
       "iyear                 0.0\n",
       "weaptype2_txt         0.0\n",
       "weaptype3_txt         0.0\n",
       "weapsubtype3_txt      0.0\n",
       "weaptype4_txt         0.0\n",
       "weapsubtype4_txt      0.0\n",
       "nkill                 0.0\n",
       "nkillus               0.0\n",
       "nwound                0.0\n",
       "nwoundus              0.0\n",
       "propextent            0.0\n",
       "propextent_txt        0.0\n",
       "propvalue             0.0\n",
       "nhostkid              0.0\n",
       "nhostkidus            0.0\n",
       "nhours                0.0\n",
       "ndays                 0.0\n",
       "kidhijcountry         0.0\n",
       "ransompaid            0.0\n",
       "ransompaidus          0.0\n",
       "ransomnote            0.0\n",
       "hostkidoutcome_txt    0.0\n",
       "dbsource              0.0\n",
       "weapsubtype2_txt      0.0\n",
       "weapsubtype1_txt      0.0\n",
       "imonth                0.0\n",
       "weaptype1_txt         0.0\n",
       "iday                  0.0\n",
       "country_txt           0.0\n",
       "region_txt            0.0\n",
       "provstate             0.0\n",
       "city                  0.0\n",
       "latitude              0.0\n",
       "longitude             0.0\n",
       "summary               0.0\n",
       "alternative_txt       0.0\n",
       "suicide               0.0\n",
       "attacktype1_txt       0.0\n",
       "targtype1_txt         0.0\n",
       "targsubtype1_txt      0.0\n",
       "natlty1_txt           0.0\n",
       "targtype2_txt         0.0\n",
       "targsubtype2_txt      0.0\n",
       "targtype3_txt         0.0\n",
       "targsubtype3_txt      0.0\n",
       "gname                 0.0\n",
       "motive                0.0\n",
       "claimmode_txt         0.0\n",
       "date                  0.0\n",
       "dtype: float64"
      ]
     },
     "execution_count": 11,
     "metadata": {},
     "output_type": "execute_result"
    }
   ],
   "source": [
    "missing_percentages = new_data.isna().sum().sort_values(ascending = False)/len(new_data)\n",
    "missing_percentages"
   ]
  },
  {
   "cell_type": "markdown",
   "metadata": {},
   "source": [
    "Remplacement des valeurs manquantes dans les variables quantitatives par 0."
   ]
  },
  {
   "cell_type": "code",
   "execution_count": 93,
   "metadata": {},
   "outputs": [],
   "source": [
    "quant = new_data.columns[~new_data.columns.isin(new_data.select_dtypes('object').columns.to_list())]"
   ]
  },
  {
   "cell_type": "code",
   "execution_count": 94,
   "metadata": {},
   "outputs": [],
   "source": [
    "new_data[quant] = new_data[quant].fillna(0)"
   ]
  },
  {
   "cell_type": "markdown",
   "metadata": {},
   "source": [
    "On constate que seules les variables qualitatives contiennent des valeurs manquantes. On remplacera par des guillemets."
   ]
  },
  {
   "cell_type": "code",
   "execution_count": 95,
   "metadata": {},
   "outputs": [],
   "source": [
    "qual = new_data.select_dtypes('object').columns"
   ]
  },
  {
   "cell_type": "code",
   "execution_count": 96,
   "metadata": {},
   "outputs": [],
   "source": [
    "new_data[qual] = new_data[qual].fillna(\"''\")                      "
   ]
  },
  {
   "cell_type": "code",
   "execution_count": 10,
   "metadata": {},
   "outputs": [
    {
     "data": {
      "text/plain": [
       "iyear                 0.0\n",
       "weaptype2_txt         0.0\n",
       "weaptype3_txt         0.0\n",
       "weapsubtype3_txt      0.0\n",
       "weaptype4_txt         0.0\n",
       "weapsubtype4_txt      0.0\n",
       "nkill                 0.0\n",
       "nkillus               0.0\n",
       "nwound                0.0\n",
       "nwoundus              0.0\n",
       "propextent            0.0\n",
       "propextent_txt        0.0\n",
       "propvalue             0.0\n",
       "nhostkid              0.0\n",
       "nhostkidus            0.0\n",
       "nhours                0.0\n",
       "ndays                 0.0\n",
       "kidhijcountry         0.0\n",
       "ransompaid            0.0\n",
       "ransompaidus          0.0\n",
       "ransomnote            0.0\n",
       "hostkidoutcome_txt    0.0\n",
       "dbsource              0.0\n",
       "weapsubtype2_txt      0.0\n",
       "weapsubtype1_txt      0.0\n",
       "imonth                0.0\n",
       "weaptype1_txt         0.0\n",
       "iday                  0.0\n",
       "country_txt           0.0\n",
       "region_txt            0.0\n",
       "provstate             0.0\n",
       "city                  0.0\n",
       "latitude              0.0\n",
       "longitude             0.0\n",
       "summary               0.0\n",
       "alternative_txt       0.0\n",
       "suicide               0.0\n",
       "attacktype1_txt       0.0\n",
       "targtype1_txt         0.0\n",
       "targsubtype1_txt      0.0\n",
       "natlty1_txt           0.0\n",
       "targtype2_txt         0.0\n",
       "targsubtype2_txt      0.0\n",
       "targtype3_txt         0.0\n",
       "targsubtype3_txt      0.0\n",
       "gname                 0.0\n",
       "motive                0.0\n",
       "claimmode_txt         0.0\n",
       "date                  0.0\n",
       "dtype: float64"
      ]
     },
     "execution_count": 10,
     "metadata": {},
     "output_type": "execute_result"
    }
   ],
   "source": [
    "missing_percentages = new_data.isna().sum().sort_values(ascending = False)/len(new_data)\n",
    "missing_percentages"
   ]
  },
  {
   "cell_type": "code",
   "execution_count": 98,
   "metadata": {},
   "outputs": [
    {
     "data": {
      "text/html": [
       "<div>\n",
       "<style scoped>\n",
       "    .dataframe tbody tr th:only-of-type {\n",
       "        vertical-align: middle;\n",
       "    }\n",
       "\n",
       "    .dataframe tbody tr th {\n",
       "        vertical-align: top;\n",
       "    }\n",
       "\n",
       "    .dataframe thead th {\n",
       "        text-align: right;\n",
       "    }\n",
       "</style>\n",
       "<table border=\"1\" class=\"dataframe\">\n",
       "  <thead>\n",
       "    <tr style=\"text-align: right;\">\n",
       "      <th></th>\n",
       "      <th>iyear</th>\n",
       "      <th>iday</th>\n",
       "      <th>imonth</th>\n",
       "      <th>nkill</th>\n",
       "      <th>country_txt</th>\n",
       "      <th>nwound</th>\n",
       "      <th>region_txt</th>\n",
       "      <th>provstate</th>\n",
       "      <th>city</th>\n",
       "      <th>nkillus</th>\n",
       "      <th>...</th>\n",
       "      <th>targtype2_txt</th>\n",
       "      <th>targsubtype2_txt</th>\n",
       "      <th>targtype3_txt</th>\n",
       "      <th>targsubtype3_txt</th>\n",
       "      <th>claimmode_txt</th>\n",
       "      <th>propextent_txt</th>\n",
       "      <th>propextent</th>\n",
       "      <th>propvalue</th>\n",
       "      <th>dbsource</th>\n",
       "      <th>date</th>\n",
       "    </tr>\n",
       "  </thead>\n",
       "  <tbody>\n",
       "    <tr>\n",
       "      <th>0</th>\n",
       "      <td>1970</td>\n",
       "      <td>1</td>\n",
       "      <td>1</td>\n",
       "      <td>0.0</td>\n",
       "      <td>United States</td>\n",
       "      <td>0.0</td>\n",
       "      <td>North America</td>\n",
       "      <td>Illinois</td>\n",
       "      <td>Cairo</td>\n",
       "      <td>0.0</td>\n",
       "      <td>...</td>\n",
       "      <td>''</td>\n",
       "      <td>''</td>\n",
       "      <td>''</td>\n",
       "      <td>''</td>\n",
       "      <td>''</td>\n",
       "      <td>Minor (likely &lt; $1 million)</td>\n",
       "      <td>3.0</td>\n",
       "      <td>0.0</td>\n",
       "      <td>Hewitt Project</td>\n",
       "      <td>1970-01-01</td>\n",
       "    </tr>\n",
       "    <tr>\n",
       "      <th>1</th>\n",
       "      <td>1970</td>\n",
       "      <td>1</td>\n",
       "      <td>1</td>\n",
       "      <td>0.0</td>\n",
       "      <td>United States</td>\n",
       "      <td>0.0</td>\n",
       "      <td>North America</td>\n",
       "      <td>Wisconsin</td>\n",
       "      <td>Baraboo</td>\n",
       "      <td>0.0</td>\n",
       "      <td>...</td>\n",
       "      <td>''</td>\n",
       "      <td>''</td>\n",
       "      <td>''</td>\n",
       "      <td>''</td>\n",
       "      <td>''</td>\n",
       "      <td>Minor (likely &lt; $1 million)</td>\n",
       "      <td>3.0</td>\n",
       "      <td>0.0</td>\n",
       "      <td>PGIS</td>\n",
       "      <td>1970-01-01</td>\n",
       "    </tr>\n",
       "    <tr>\n",
       "      <th>2</th>\n",
       "      <td>1970</td>\n",
       "      <td>2</td>\n",
       "      <td>1</td>\n",
       "      <td>0.0</td>\n",
       "      <td>Uruguay</td>\n",
       "      <td>0.0</td>\n",
       "      <td>South America</td>\n",
       "      <td>Montevideo</td>\n",
       "      <td>Montevideo</td>\n",
       "      <td>0.0</td>\n",
       "      <td>...</td>\n",
       "      <td>''</td>\n",
       "      <td>''</td>\n",
       "      <td>''</td>\n",
       "      <td>''</td>\n",
       "      <td>''</td>\n",
       "      <td>''</td>\n",
       "      <td>0.0</td>\n",
       "      <td>0.0</td>\n",
       "      <td>PGIS</td>\n",
       "      <td>1970-01-02</td>\n",
       "    </tr>\n",
       "    <tr>\n",
       "      <th>3</th>\n",
       "      <td>1970</td>\n",
       "      <td>2</td>\n",
       "      <td>1</td>\n",
       "      <td>0.0</td>\n",
       "      <td>United States</td>\n",
       "      <td>0.0</td>\n",
       "      <td>North America</td>\n",
       "      <td>California</td>\n",
       "      <td>Oakland</td>\n",
       "      <td>0.0</td>\n",
       "      <td>...</td>\n",
       "      <td>''</td>\n",
       "      <td>''</td>\n",
       "      <td>''</td>\n",
       "      <td>''</td>\n",
       "      <td>''</td>\n",
       "      <td>Minor (likely &lt; $1 million)</td>\n",
       "      <td>3.0</td>\n",
       "      <td>22500.0</td>\n",
       "      <td>Hewitt Project</td>\n",
       "      <td>1970-01-02</td>\n",
       "    </tr>\n",
       "    <tr>\n",
       "      <th>4</th>\n",
       "      <td>1970</td>\n",
       "      <td>2</td>\n",
       "      <td>1</td>\n",
       "      <td>0.0</td>\n",
       "      <td>United States</td>\n",
       "      <td>0.0</td>\n",
       "      <td>North America</td>\n",
       "      <td>Wisconsin</td>\n",
       "      <td>Madison</td>\n",
       "      <td>0.0</td>\n",
       "      <td>...</td>\n",
       "      <td>''</td>\n",
       "      <td>''</td>\n",
       "      <td>''</td>\n",
       "      <td>''</td>\n",
       "      <td>Letter</td>\n",
       "      <td>Minor (likely &lt; $1 million)</td>\n",
       "      <td>3.0</td>\n",
       "      <td>60000.0</td>\n",
       "      <td>Hewitt Project</td>\n",
       "      <td>1970-01-02</td>\n",
       "    </tr>\n",
       "  </tbody>\n",
       "</table>\n",
       "<p>5 rows × 50 columns</p>\n",
       "</div>"
      ],
      "text/plain": [
       "   iyear  iday  imonth  nkill    country_txt  nwound     region_txt  \\\n",
       "0   1970     1       1    0.0  United States     0.0  North America   \n",
       "1   1970     1       1    0.0  United States     0.0  North America   \n",
       "2   1970     2       1    0.0        Uruguay     0.0  South America   \n",
       "3   1970     2       1    0.0  United States     0.0  North America   \n",
       "4   1970     2       1    0.0  United States     0.0  North America   \n",
       "\n",
       "    provstate        city  nkillus  ...  targtype2_txt targsubtype2_txt  \\\n",
       "0    Illinois       Cairo      0.0  ...             ''               ''   \n",
       "1   Wisconsin     Baraboo      0.0  ...             ''               ''   \n",
       "2  Montevideo  Montevideo      0.0  ...             ''               ''   \n",
       "3  California     Oakland      0.0  ...             ''               ''   \n",
       "4   Wisconsin     Madison      0.0  ...             ''               ''   \n",
       "\n",
       "   targtype3_txt  targsubtype3_txt claimmode_txt               propextent_txt  \\\n",
       "0             ''                ''            ''  Minor (likely < $1 million)   \n",
       "1             ''                ''            ''  Minor (likely < $1 million)   \n",
       "2             ''                ''            ''                           ''   \n",
       "3             ''                ''            ''  Minor (likely < $1 million)   \n",
       "4             ''                ''        Letter  Minor (likely < $1 million)   \n",
       "\n",
       "   propextent  propvalue        dbsource       date  \n",
       "0         3.0        0.0  Hewitt Project 1970-01-01  \n",
       "1         3.0        0.0            PGIS 1970-01-01  \n",
       "2         0.0        0.0            PGIS 1970-01-02  \n",
       "3         3.0    22500.0  Hewitt Project 1970-01-02  \n",
       "4         3.0    60000.0  Hewitt Project 1970-01-02  \n",
       "\n",
       "[5 rows x 50 columns]"
      ]
     },
     "execution_count": 98,
     "metadata": {},
     "output_type": "execute_result"
    }
   ],
   "source": [
    "new_data.head()"
   ]
  },
  {
   "cell_type": "code",
   "execution_count": 99,
   "metadata": {},
   "outputs": [],
   "source": [
    "# new_data.to_csv(\"data/cleaned/terror.csv\", index = False)"
   ]
  },
  {
   "cell_type": "markdown",
   "metadata": {},
   "source": [
    "pickling datas"
   ]
  },
  {
   "cell_type": "code",
   "execution_count": 3,
   "metadata": {},
   "outputs": [],
   "source": [
    "with open('packages/data/cleaned/terror.txt', \"wb\") as f:\n",
    "    pickled = pickle.Pickler(f)\n",
    "    pickled.dump(new_data)"
   ]
  },
  {
   "cell_type": "markdown",
   "metadata": {},
   "source": [
    "## Vérification du dataset"
   ]
  },
  {
   "cell_type": "code",
   "execution_count": 30,
   "metadata": {},
   "outputs": [],
   "source": [
    "with open('packages/data/cleaned/terror_test.txt', \"rb\") as f:\n",
    "    pickled = pickle.Unpickler(f)\n",
    "    new_data = pickled.load()"
   ]
  },
  {
   "cell_type": "code",
   "execution_count": 3,
   "metadata": {},
   "outputs": [
    {
     "ename": "FileNotFoundError",
     "evalue": "[Errno 2] No such file or directory: 'data/cleaned/terror_test.csv'",
     "output_type": "error",
     "traceback": [
      "\u001b[1;31m---------------------------------------------------------------------------\u001b[0m",
      "\u001b[1;31mFileNotFoundError\u001b[0m                         Traceback (most recent call last)",
      "\u001b[1;32mC:\\Users\\OUMARK~1\\AppData\\Local\\Temp/ipykernel_24848/40858086.py\u001b[0m in \u001b[0;36m<module>\u001b[1;34m\u001b[0m\n\u001b[1;32m----> 1\u001b[1;33m \u001b[0mnew_data\u001b[0m \u001b[1;33m=\u001b[0m \u001b[0mpd\u001b[0m\u001b[1;33m.\u001b[0m\u001b[0mread_csv\u001b[0m\u001b[1;33m(\u001b[0m\u001b[1;34m\"data/cleaned/terror_test.csv\"\u001b[0m\u001b[1;33m)\u001b[0m\u001b[1;33m\u001b[0m\u001b[1;33m\u001b[0m\u001b[0m\n\u001b[0m",
      "\u001b[1;32m~\\AppData\\Local\\Programs\\Python\\Python39\\lib\\site-packages\\pandas\\util\\_decorators.py\u001b[0m in \u001b[0;36mwrapper\u001b[1;34m(*args, **kwargs)\u001b[0m\n\u001b[0;32m    309\u001b[0m                     \u001b[0mstacklevel\u001b[0m\u001b[1;33m=\u001b[0m\u001b[0mstacklevel\u001b[0m\u001b[1;33m,\u001b[0m\u001b[1;33m\u001b[0m\u001b[1;33m\u001b[0m\u001b[0m\n\u001b[0;32m    310\u001b[0m                 )\n\u001b[1;32m--> 311\u001b[1;33m             \u001b[1;32mreturn\u001b[0m \u001b[0mfunc\u001b[0m\u001b[1;33m(\u001b[0m\u001b[1;33m*\u001b[0m\u001b[0margs\u001b[0m\u001b[1;33m,\u001b[0m \u001b[1;33m**\u001b[0m\u001b[0mkwargs\u001b[0m\u001b[1;33m)\u001b[0m\u001b[1;33m\u001b[0m\u001b[1;33m\u001b[0m\u001b[0m\n\u001b[0m\u001b[0;32m    312\u001b[0m \u001b[1;33m\u001b[0m\u001b[0m\n\u001b[0;32m    313\u001b[0m         \u001b[1;32mreturn\u001b[0m \u001b[0mwrapper\u001b[0m\u001b[1;33m\u001b[0m\u001b[1;33m\u001b[0m\u001b[0m\n",
      "\u001b[1;32m~\\AppData\\Local\\Programs\\Python\\Python39\\lib\\site-packages\\pandas\\io\\parsers\\readers.py\u001b[0m in \u001b[0;36mread_csv\u001b[1;34m(filepath_or_buffer, sep, delimiter, header, names, index_col, usecols, squeeze, prefix, mangle_dupe_cols, dtype, engine, converters, true_values, false_values, skipinitialspace, skiprows, skipfooter, nrows, na_values, keep_default_na, na_filter, verbose, skip_blank_lines, parse_dates, infer_datetime_format, keep_date_col, date_parser, dayfirst, cache_dates, iterator, chunksize, compression, thousands, decimal, lineterminator, quotechar, quoting, doublequote, escapechar, comment, encoding, encoding_errors, dialect, error_bad_lines, warn_bad_lines, on_bad_lines, delim_whitespace, low_memory, memory_map, float_precision, storage_options)\u001b[0m\n\u001b[0;32m    584\u001b[0m     \u001b[0mkwds\u001b[0m\u001b[1;33m.\u001b[0m\u001b[0mupdate\u001b[0m\u001b[1;33m(\u001b[0m\u001b[0mkwds_defaults\u001b[0m\u001b[1;33m)\u001b[0m\u001b[1;33m\u001b[0m\u001b[1;33m\u001b[0m\u001b[0m\n\u001b[0;32m    585\u001b[0m \u001b[1;33m\u001b[0m\u001b[0m\n\u001b[1;32m--> 586\u001b[1;33m     \u001b[1;32mreturn\u001b[0m \u001b[0m_read\u001b[0m\u001b[1;33m(\u001b[0m\u001b[0mfilepath_or_buffer\u001b[0m\u001b[1;33m,\u001b[0m \u001b[0mkwds\u001b[0m\u001b[1;33m)\u001b[0m\u001b[1;33m\u001b[0m\u001b[1;33m\u001b[0m\u001b[0m\n\u001b[0m\u001b[0;32m    587\u001b[0m \u001b[1;33m\u001b[0m\u001b[0m\n\u001b[0;32m    588\u001b[0m \u001b[1;33m\u001b[0m\u001b[0m\n",
      "\u001b[1;32m~\\AppData\\Local\\Programs\\Python\\Python39\\lib\\site-packages\\pandas\\io\\parsers\\readers.py\u001b[0m in \u001b[0;36m_read\u001b[1;34m(filepath_or_buffer, kwds)\u001b[0m\n\u001b[0;32m    480\u001b[0m \u001b[1;33m\u001b[0m\u001b[0m\n\u001b[0;32m    481\u001b[0m     \u001b[1;31m# Create the parser.\u001b[0m\u001b[1;33m\u001b[0m\u001b[1;33m\u001b[0m\u001b[0m\n\u001b[1;32m--> 482\u001b[1;33m     \u001b[0mparser\u001b[0m \u001b[1;33m=\u001b[0m \u001b[0mTextFileReader\u001b[0m\u001b[1;33m(\u001b[0m\u001b[0mfilepath_or_buffer\u001b[0m\u001b[1;33m,\u001b[0m \u001b[1;33m**\u001b[0m\u001b[0mkwds\u001b[0m\u001b[1;33m)\u001b[0m\u001b[1;33m\u001b[0m\u001b[1;33m\u001b[0m\u001b[0m\n\u001b[0m\u001b[0;32m    483\u001b[0m \u001b[1;33m\u001b[0m\u001b[0m\n\u001b[0;32m    484\u001b[0m     \u001b[1;32mif\u001b[0m \u001b[0mchunksize\u001b[0m \u001b[1;32mor\u001b[0m \u001b[0miterator\u001b[0m\u001b[1;33m:\u001b[0m\u001b[1;33m\u001b[0m\u001b[1;33m\u001b[0m\u001b[0m\n",
      "\u001b[1;32m~\\AppData\\Local\\Programs\\Python\\Python39\\lib\\site-packages\\pandas\\io\\parsers\\readers.py\u001b[0m in \u001b[0;36m__init__\u001b[1;34m(self, f, engine, **kwds)\u001b[0m\n\u001b[0;32m    809\u001b[0m             \u001b[0mself\u001b[0m\u001b[1;33m.\u001b[0m\u001b[0moptions\u001b[0m\u001b[1;33m[\u001b[0m\u001b[1;34m\"has_index_names\"\u001b[0m\u001b[1;33m]\u001b[0m \u001b[1;33m=\u001b[0m \u001b[0mkwds\u001b[0m\u001b[1;33m[\u001b[0m\u001b[1;34m\"has_index_names\"\u001b[0m\u001b[1;33m]\u001b[0m\u001b[1;33m\u001b[0m\u001b[1;33m\u001b[0m\u001b[0m\n\u001b[0;32m    810\u001b[0m \u001b[1;33m\u001b[0m\u001b[0m\n\u001b[1;32m--> 811\u001b[1;33m         \u001b[0mself\u001b[0m\u001b[1;33m.\u001b[0m\u001b[0m_engine\u001b[0m \u001b[1;33m=\u001b[0m \u001b[0mself\u001b[0m\u001b[1;33m.\u001b[0m\u001b[0m_make_engine\u001b[0m\u001b[1;33m(\u001b[0m\u001b[0mself\u001b[0m\u001b[1;33m.\u001b[0m\u001b[0mengine\u001b[0m\u001b[1;33m)\u001b[0m\u001b[1;33m\u001b[0m\u001b[1;33m\u001b[0m\u001b[0m\n\u001b[0m\u001b[0;32m    812\u001b[0m \u001b[1;33m\u001b[0m\u001b[0m\n\u001b[0;32m    813\u001b[0m     \u001b[1;32mdef\u001b[0m \u001b[0mclose\u001b[0m\u001b[1;33m(\u001b[0m\u001b[0mself\u001b[0m\u001b[1;33m)\u001b[0m\u001b[1;33m:\u001b[0m\u001b[1;33m\u001b[0m\u001b[1;33m\u001b[0m\u001b[0m\n",
      "\u001b[1;32m~\\AppData\\Local\\Programs\\Python\\Python39\\lib\\site-packages\\pandas\\io\\parsers\\readers.py\u001b[0m in \u001b[0;36m_make_engine\u001b[1;34m(self, engine)\u001b[0m\n\u001b[0;32m   1038\u001b[0m             )\n\u001b[0;32m   1039\u001b[0m         \u001b[1;31m# error: Too many arguments for \"ParserBase\"\u001b[0m\u001b[1;33m\u001b[0m\u001b[1;33m\u001b[0m\u001b[0m\n\u001b[1;32m-> 1040\u001b[1;33m         \u001b[1;32mreturn\u001b[0m \u001b[0mmapping\u001b[0m\u001b[1;33m[\u001b[0m\u001b[0mengine\u001b[0m\u001b[1;33m]\u001b[0m\u001b[1;33m(\u001b[0m\u001b[0mself\u001b[0m\u001b[1;33m.\u001b[0m\u001b[0mf\u001b[0m\u001b[1;33m,\u001b[0m \u001b[1;33m**\u001b[0m\u001b[0mself\u001b[0m\u001b[1;33m.\u001b[0m\u001b[0moptions\u001b[0m\u001b[1;33m)\u001b[0m  \u001b[1;31m# type: ignore[call-arg]\u001b[0m\u001b[1;33m\u001b[0m\u001b[1;33m\u001b[0m\u001b[0m\n\u001b[0m\u001b[0;32m   1041\u001b[0m \u001b[1;33m\u001b[0m\u001b[0m\n\u001b[0;32m   1042\u001b[0m     \u001b[1;32mdef\u001b[0m \u001b[0m_failover_to_python\u001b[0m\u001b[1;33m(\u001b[0m\u001b[0mself\u001b[0m\u001b[1;33m)\u001b[0m\u001b[1;33m:\u001b[0m\u001b[1;33m\u001b[0m\u001b[1;33m\u001b[0m\u001b[0m\n",
      "\u001b[1;32m~\\AppData\\Local\\Programs\\Python\\Python39\\lib\\site-packages\\pandas\\io\\parsers\\c_parser_wrapper.py\u001b[0m in \u001b[0;36m__init__\u001b[1;34m(self, src, **kwds)\u001b[0m\n\u001b[0;32m     49\u001b[0m \u001b[1;33m\u001b[0m\u001b[0m\n\u001b[0;32m     50\u001b[0m         \u001b[1;31m# open handles\u001b[0m\u001b[1;33m\u001b[0m\u001b[1;33m\u001b[0m\u001b[0m\n\u001b[1;32m---> 51\u001b[1;33m         \u001b[0mself\u001b[0m\u001b[1;33m.\u001b[0m\u001b[0m_open_handles\u001b[0m\u001b[1;33m(\u001b[0m\u001b[0msrc\u001b[0m\u001b[1;33m,\u001b[0m \u001b[0mkwds\u001b[0m\u001b[1;33m)\u001b[0m\u001b[1;33m\u001b[0m\u001b[1;33m\u001b[0m\u001b[0m\n\u001b[0m\u001b[0;32m     52\u001b[0m         \u001b[1;32massert\u001b[0m \u001b[0mself\u001b[0m\u001b[1;33m.\u001b[0m\u001b[0mhandles\u001b[0m \u001b[1;32mis\u001b[0m \u001b[1;32mnot\u001b[0m \u001b[1;32mNone\u001b[0m\u001b[1;33m\u001b[0m\u001b[1;33m\u001b[0m\u001b[0m\n\u001b[0;32m     53\u001b[0m \u001b[1;33m\u001b[0m\u001b[0m\n",
      "\u001b[1;32m~\\AppData\\Local\\Programs\\Python\\Python39\\lib\\site-packages\\pandas\\io\\parsers\\base_parser.py\u001b[0m in \u001b[0;36m_open_handles\u001b[1;34m(self, src, kwds)\u001b[0m\n\u001b[0;32m    220\u001b[0m         \u001b[0mLet\u001b[0m \u001b[0mthe\u001b[0m \u001b[0mreaders\u001b[0m \u001b[0mopen\u001b[0m \u001b[0mIOHandles\u001b[0m \u001b[0mafter\u001b[0m \u001b[0mthey\u001b[0m \u001b[0mare\u001b[0m \u001b[0mdone\u001b[0m \u001b[1;32mwith\u001b[0m \u001b[0mtheir\u001b[0m \u001b[0mpotential\u001b[0m \u001b[0mraises\u001b[0m\u001b[1;33m.\u001b[0m\u001b[1;33m\u001b[0m\u001b[1;33m\u001b[0m\u001b[0m\n\u001b[0;32m    221\u001b[0m         \"\"\"\n\u001b[1;32m--> 222\u001b[1;33m         self.handles = get_handle(\n\u001b[0m\u001b[0;32m    223\u001b[0m             \u001b[0msrc\u001b[0m\u001b[1;33m,\u001b[0m\u001b[1;33m\u001b[0m\u001b[1;33m\u001b[0m\u001b[0m\n\u001b[0;32m    224\u001b[0m             \u001b[1;34m\"r\"\u001b[0m\u001b[1;33m,\u001b[0m\u001b[1;33m\u001b[0m\u001b[1;33m\u001b[0m\u001b[0m\n",
      "\u001b[1;32m~\\AppData\\Local\\Programs\\Python\\Python39\\lib\\site-packages\\pandas\\io\\common.py\u001b[0m in \u001b[0;36mget_handle\u001b[1;34m(path_or_buf, mode, encoding, compression, memory_map, is_text, errors, storage_options)\u001b[0m\n\u001b[0;32m    700\u001b[0m         \u001b[1;32mif\u001b[0m \u001b[0mioargs\u001b[0m\u001b[1;33m.\u001b[0m\u001b[0mencoding\u001b[0m \u001b[1;32mand\u001b[0m \u001b[1;34m\"b\"\u001b[0m \u001b[1;32mnot\u001b[0m \u001b[1;32min\u001b[0m \u001b[0mioargs\u001b[0m\u001b[1;33m.\u001b[0m\u001b[0mmode\u001b[0m\u001b[1;33m:\u001b[0m\u001b[1;33m\u001b[0m\u001b[1;33m\u001b[0m\u001b[0m\n\u001b[0;32m    701\u001b[0m             \u001b[1;31m# Encoding\u001b[0m\u001b[1;33m\u001b[0m\u001b[1;33m\u001b[0m\u001b[0m\n\u001b[1;32m--> 702\u001b[1;33m             handle = open(\n\u001b[0m\u001b[0;32m    703\u001b[0m                 \u001b[0mhandle\u001b[0m\u001b[1;33m,\u001b[0m\u001b[1;33m\u001b[0m\u001b[1;33m\u001b[0m\u001b[0m\n\u001b[0;32m    704\u001b[0m                 \u001b[0mioargs\u001b[0m\u001b[1;33m.\u001b[0m\u001b[0mmode\u001b[0m\u001b[1;33m,\u001b[0m\u001b[1;33m\u001b[0m\u001b[1;33m\u001b[0m\u001b[0m\n",
      "\u001b[1;31mFileNotFoundError\u001b[0m: [Errno 2] No such file or directory: 'data/cleaned/terror_test.csv'"
     ]
    }
   ],
   "source": [
    "new_data = pd.read_csv(\"data/cleaned/terror_test.csv\")"
   ]
  },
  {
   "cell_type": "code",
   "execution_count": 31,
   "metadata": {},
   "outputs": [
    {
     "data": {
      "text/html": [
       "<div>\n",
       "<style scoped>\n",
       "    .dataframe tbody tr th:only-of-type {\n",
       "        vertical-align: middle;\n",
       "    }\n",
       "\n",
       "    .dataframe tbody tr th {\n",
       "        vertical-align: top;\n",
       "    }\n",
       "\n",
       "    .dataframe thead th {\n",
       "        text-align: right;\n",
       "    }\n",
       "</style>\n",
       "<table border=\"1\" class=\"dataframe\">\n",
       "  <thead>\n",
       "    <tr style=\"text-align: right;\">\n",
       "      <th></th>\n",
       "      <th>iyear</th>\n",
       "      <th>imonth</th>\n",
       "      <th>iday</th>\n",
       "      <th>country_txt</th>\n",
       "      <th>region_txt</th>\n",
       "      <th>provstate</th>\n",
       "      <th>city</th>\n",
       "      <th>latitude</th>\n",
       "      <th>longitude</th>\n",
       "      <th>summary</th>\n",
       "      <th>...</th>\n",
       "      <th>nhostkidus</th>\n",
       "      <th>nhours</th>\n",
       "      <th>ndays</th>\n",
       "      <th>kidhijcountry</th>\n",
       "      <th>ransompaid</th>\n",
       "      <th>ransompaidus</th>\n",
       "      <th>ransomnote</th>\n",
       "      <th>hostkidoutcome_txt</th>\n",
       "      <th>dbsource</th>\n",
       "      <th>date</th>\n",
       "    </tr>\n",
       "  </thead>\n",
       "  <tbody>\n",
       "    <tr>\n",
       "      <th>5</th>\n",
       "      <td>1970</td>\n",
       "      <td>1</td>\n",
       "      <td>1</td>\n",
       "      <td>United States</td>\n",
       "      <td>North America</td>\n",
       "      <td>Illinois</td>\n",
       "      <td>Cairo</td>\n",
       "      <td>37.005105</td>\n",
       "      <td>-89.176269</td>\n",
       "      <td>1/1/1970: Unknown African American assailants ...</td>\n",
       "      <td>...</td>\n",
       "      <td>0</td>\n",
       "      <td>0</td>\n",
       "      <td>0</td>\n",
       "      <td></td>\n",
       "      <td>0.0</td>\n",
       "      <td>0.0</td>\n",
       "      <td></td>\n",
       "      <td></td>\n",
       "      <td>Hewitt Project</td>\n",
       "      <td>1970-01-01</td>\n",
       "    </tr>\n",
       "    <tr>\n",
       "      <th>10</th>\n",
       "      <td>1970</td>\n",
       "      <td>1</td>\n",
       "      <td>1</td>\n",
       "      <td>United States</td>\n",
       "      <td>North America</td>\n",
       "      <td>Wisconsin</td>\n",
       "      <td>Baraboo</td>\n",
       "      <td>43.468500</td>\n",
       "      <td>-89.744299</td>\n",
       "      <td></td>\n",
       "      <td>...</td>\n",
       "      <td>0</td>\n",
       "      <td>0</td>\n",
       "      <td>0</td>\n",
       "      <td></td>\n",
       "      <td>0.0</td>\n",
       "      <td>0.0</td>\n",
       "      <td></td>\n",
       "      <td></td>\n",
       "      <td>PGIS</td>\n",
       "      <td>1970-01-01</td>\n",
       "    </tr>\n",
       "    <tr>\n",
       "      <th>6</th>\n",
       "      <td>1970</td>\n",
       "      <td>1</td>\n",
       "      <td>2</td>\n",
       "      <td>Uruguay</td>\n",
       "      <td>South America</td>\n",
       "      <td>Montevideo</td>\n",
       "      <td>Montevideo</td>\n",
       "      <td>-34.891151</td>\n",
       "      <td>-56.187214</td>\n",
       "      <td></td>\n",
       "      <td>...</td>\n",
       "      <td>0</td>\n",
       "      <td>0</td>\n",
       "      <td>0</td>\n",
       "      <td></td>\n",
       "      <td>0.0</td>\n",
       "      <td>0.0</td>\n",
       "      <td></td>\n",
       "      <td></td>\n",
       "      <td>PGIS</td>\n",
       "      <td>1970-01-02</td>\n",
       "    </tr>\n",
       "    <tr>\n",
       "      <th>7</th>\n",
       "      <td>1970</td>\n",
       "      <td>1</td>\n",
       "      <td>2</td>\n",
       "      <td>United States</td>\n",
       "      <td>North America</td>\n",
       "      <td>California</td>\n",
       "      <td>Oakland</td>\n",
       "      <td>37.791927</td>\n",
       "      <td>-122.225906</td>\n",
       "      <td>1/2/1970: Unknown perpetrators detonated explo...</td>\n",
       "      <td>...</td>\n",
       "      <td>0</td>\n",
       "      <td>0</td>\n",
       "      <td>0</td>\n",
       "      <td></td>\n",
       "      <td>0.0</td>\n",
       "      <td>0.0</td>\n",
       "      <td></td>\n",
       "      <td></td>\n",
       "      <td>Hewitt Project</td>\n",
       "      <td>1970-01-02</td>\n",
       "    </tr>\n",
       "    <tr>\n",
       "      <th>8</th>\n",
       "      <td>1970</td>\n",
       "      <td>1</td>\n",
       "      <td>2</td>\n",
       "      <td>United States</td>\n",
       "      <td>North America</td>\n",
       "      <td>Wisconsin</td>\n",
       "      <td>Madison</td>\n",
       "      <td>43.076592</td>\n",
       "      <td>-89.412488</td>\n",
       "      <td>1/2/1970: Karl Armstrong, a member of the New ...</td>\n",
       "      <td>...</td>\n",
       "      <td>0</td>\n",
       "      <td>0</td>\n",
       "      <td>0</td>\n",
       "      <td></td>\n",
       "      <td>0.0</td>\n",
       "      <td>0.0</td>\n",
       "      <td></td>\n",
       "      <td></td>\n",
       "      <td>Hewitt Project</td>\n",
       "      <td>1970-01-02</td>\n",
       "    </tr>\n",
       "  </tbody>\n",
       "</table>\n",
       "<p>5 rows × 49 columns</p>\n",
       "</div>"
      ],
      "text/plain": [
       "    iyear  imonth  iday    country_txt     region_txt   provstate        city  \\\n",
       "5    1970       1     1  United States  North America    Illinois       Cairo   \n",
       "10   1970       1     1  United States  North America   Wisconsin     Baraboo   \n",
       "6    1970       1     2        Uruguay  South America  Montevideo  Montevideo   \n",
       "7    1970       1     2  United States  North America  California     Oakland   \n",
       "8    1970       1     2  United States  North America   Wisconsin     Madison   \n",
       "\n",
       "     latitude   longitude                                            summary  \\\n",
       "5   37.005105  -89.176269  1/1/1970: Unknown African American assailants ...   \n",
       "10  43.468500  -89.744299                                                      \n",
       "6  -34.891151  -56.187214                                                      \n",
       "7   37.791927 -122.225906  1/2/1970: Unknown perpetrators detonated explo...   \n",
       "8   43.076592  -89.412488  1/2/1970: Karl Armstrong, a member of the New ...   \n",
       "\n",
       "    ... nhostkidus  nhours ndays kidhijcountry ransompaid ransompaidus  \\\n",
       "5   ...          0       0     0                      0.0          0.0   \n",
       "10  ...          0       0     0                      0.0          0.0   \n",
       "6   ...          0       0     0                      0.0          0.0   \n",
       "7   ...          0       0     0                      0.0          0.0   \n",
       "8   ...          0       0     0                      0.0          0.0   \n",
       "\n",
       "   ransomnote hostkidoutcome_txt        dbsource       date  \n",
       "5                                 Hewitt Project 1970-01-01  \n",
       "10                                          PGIS 1970-01-01  \n",
       "6                                           PGIS 1970-01-02  \n",
       "7                                 Hewitt Project 1970-01-02  \n",
       "8                                 Hewitt Project 1970-01-02  \n",
       "\n",
       "[5 rows x 49 columns]"
      ]
     },
     "execution_count": 31,
     "metadata": {},
     "output_type": "execute_result"
    }
   ],
   "source": [
    "new_data.head()"
   ]
  },
  {
   "cell_type": "code",
   "execution_count": 32,
   "metadata": {},
   "outputs": [],
   "source": [
    "# from packages import pd\n",
    "# from packages import pickle\n",
    "from typing import *\n",
    "\n",
    "\n",
    "def remplacer_valeurs(df: pd.DataFrame, colonne:str, valeurs_a_remplacer: List, valeurs_de_remplacement: List)->pd.DataFrame:\n",
    "    \"\"\"Remplacer certaines valeurs d'une colonne\n",
    "\n",
    "    Args:\n",
    "        df (pd.DataFrame): le jeu de données\n",
    "        colonne (str): la colonne\n",
    "        valeurs_a_remplacer (List): les valeurs à remplacer\n",
    "        valeurs_de_remplacement (List): les valeurs de remplacement\n",
    "\n",
    "    Returns:\n",
    "        pd.DataFrame: Le jeu de données de sortie\n",
    "    \"\"\"\n",
    "    \n",
    "    def replace(colonne):\n",
    "        for i, value in enumerate(valeurs_a_remplacer):\n",
    "            if colonne == value:\n",
    "                colonne = valeurs_de_remplacement[i]\n",
    "        return colonne\n",
    "    \n",
    "    df[colonne] = df[colonne].apply(replace)\n",
    "    return df\n",
    "    \n",
    "\n",
    "def ajout_date(df: pd.DataFrame, colonne_jour: str, colonne_mois: str, colonne_annee: str) -> pd.DataFrame:\n",
    "    \"\"\"Ajouter une nouvelle colonne date\n",
    "\n",
    "    Args:\n",
    "        df (pd.DataFrame): Le jeu de données initial\n",
    "        colonne_jour (str): Le nom de la colonne jour\n",
    "        colonne_mois (str): Le nom de la colonne mois\n",
    "        colonne_annee (str): Le nom de la colonne annee\n",
    "\n",
    "    Returns:\n",
    "        pd.DataFrame: Le jeu de données avec une date\n",
    "    \"\"\"\n",
    "    # enlever les lignes avec des numéros de jour égals à 0\n",
    "    df.drop(index = df[(df[\"iday\"] == 0)].index, axis = 0, inplace = True)\n",
    "    \n",
    "    # création d'une nouvelle colonne date\n",
    "    df['date'] = df[\"iyear\"].astype(\"str\") + \"-\" + df[\"imonth\"].astype(\"str\") + \"-\" + df[\"iday\"].astype(\"str\")\n",
    "    \n",
    "    # transformation de la colonne en format date_time\n",
    "    df[\"date\"] = pd.to_datetime(df['date'])\n",
    "    \n",
    "    # trier les lignes suivant les dates\n",
    "    df.sort_values('date', inplace=True)\n",
    "    \n",
    "    return df\n",
    "\n",
    "def convertir_type(df: pd.DataFrame, colonnes: List, type: str):\n",
    "    \"\"\"Permet de convertir des colonnes en une autre type\n",
    "\n",
    "    Args:\n",
    "        df (pd.DataFrame): Le jeu de données\n",
    "        colonnes (List): Les colonnes à convertir\n",
    "        type (str): Le type des données\n",
    "    \"\"\"\n",
    "    for colonne in colonnes:\n",
    "        df = remplacer_valeurs(df, colonne, [''], [\"0\"])\n",
    "        df[colonne] = df[colonne].astype(type)\n",
    "    return df\n",
    "\n",
    "def remplacer_valeurs_manquantes_quant(df: pd.DataFrame, valeur_de_remplacement: float)->pd.DataFrame:\n",
    "    \"\"\"remplacer les valeurs manquantes quantitatives\n",
    "\n",
    "    Args:\n",
    "        df (pd.DataFrame): Le jeu de données avec valeurs manquantes\n",
    "        valeur_de_remplacement (float): La valeur de remplacement\n",
    "\n",
    "    Returns:\n",
    "        pd.DataFrame: Le jeu de données sans valeurs manquantes quantitatives\n",
    "    \"\"\"\n",
    "    # recuperations des noms des colonnes quantitatives\n",
    "    quant: pd.Index = df.columns[~df.columns.isin(df.select_dtypes('object').columns.to_list())]\n",
    "    \n",
    "    # remplacements des valeurs manquantes\n",
    "    df[quant] = df[quant].fillna(valeur_de_remplacement)\n",
    "    \n",
    "    return df\n",
    "    \n",
    "def remplacer_valeurs_manquantes_qual(df: pd.DataFrame, valeur_de_remplacement: float)->pd.DataFrame:\n",
    "    \"\"\"remplacer les valeurs manquantes qualitatives\n",
    "\n",
    "    Args:\n",
    "        df (pd.DataFrame): Le jeu de données avec valeurs manquantes\n",
    "        valeur_de_remplacement (float): La valeur de remplacement\n",
    "\n",
    "    Returns:\n",
    "        pd.DataFrame: Le jeu de données sans valeurs manquantes qualitatives\n",
    "    \"\"\"\n",
    "    # recuperations des noms des colonnes qualitatives\n",
    "    qual = df.select_dtypes('object').columns\n",
    "    \n",
    "    # remplacements des valeurs manquantes\n",
    "    df[qual] = df[qual].fillna(valeur_de_remplacement)      \n",
    "    \n",
    "    return df\n",
    "\n",
    "def pretraitement(df_terror: pd.DataFrame) -> pd.DataFrame:\n",
    "    \"\"\"Effectuer le prétraitement des données\n",
    "\n",
    "    Args:\n",
    "        df_terror (pd.DataFrame): Le jeu de données original\n",
    "\n",
    "    Returns:\n",
    "        pd.DataFrame: Le jeu de données nettoyé\n",
    "    \"\"\"\n",
    "    ## Les traitements qui seront effectués ont été étudié avant \n",
    "    ## d'être entrepris\n",
    "    \n",
    "    # modification des types des variables quantitatives\n",
    "    df_terror = convertir_type(df_terror, ['iyear', 'iday', 'imonth', 'nkill',\n",
    "                                           'nwound', 'nkillus', 'nwoundus', 'ndays',\n",
    "                                           'nhostkidus', 'propextent', 'suicide', 'nhostkid', 'nhours'],'int')\n",
    "    df_terror = convertir_type(df_terror, ['latitude', 'longitude', 'ransompaid', 'ransompaidus', 'propvalue'],\"float\")\n",
    "    # Ajout d'une nouvelle colonne date\n",
    "    df_terror = ajout_date(df_terror, \"iday\", \"imonth\", \"iyear\")\n",
    "    \n",
    "    \n",
    "    \n",
    "    # remplacement des valeurs manquantes quantitatives\n",
    "    df_terror = remplacer_valeurs_manquantes_quant(df_terror, 0)\n",
    "    \n",
    "    # remplacements des valeurs manquantes restantes qui doivent etre qualitatives\n",
    "    df_terror.fillna(\"''\", inplace = True)  \n",
    "    \n",
    "    return df_terror    "
   ]
  },
  {
   "cell_type": "code",
   "execution_count": 33,
   "metadata": {},
   "outputs": [
    {
     "data": {
      "text/html": [
       "<div>\n",
       "<style scoped>\n",
       "    .dataframe tbody tr th:only-of-type {\n",
       "        vertical-align: middle;\n",
       "    }\n",
       "\n",
       "    .dataframe tbody tr th {\n",
       "        vertical-align: top;\n",
       "    }\n",
       "\n",
       "    .dataframe thead th {\n",
       "        text-align: right;\n",
       "    }\n",
       "</style>\n",
       "<table border=\"1\" class=\"dataframe\">\n",
       "  <thead>\n",
       "    <tr style=\"text-align: right;\">\n",
       "      <th></th>\n",
       "      <th>iyear</th>\n",
       "      <th>imonth</th>\n",
       "      <th>iday</th>\n",
       "      <th>country_txt</th>\n",
       "      <th>region_txt</th>\n",
       "      <th>provstate</th>\n",
       "      <th>city</th>\n",
       "      <th>latitude</th>\n",
       "      <th>longitude</th>\n",
       "      <th>summary</th>\n",
       "      <th>...</th>\n",
       "      <th>nhostkidus</th>\n",
       "      <th>nhours</th>\n",
       "      <th>ndays</th>\n",
       "      <th>kidhijcountry</th>\n",
       "      <th>ransompaid</th>\n",
       "      <th>ransompaidus</th>\n",
       "      <th>ransomnote</th>\n",
       "      <th>hostkidoutcome_txt</th>\n",
       "      <th>dbsource</th>\n",
       "      <th>date</th>\n",
       "    </tr>\n",
       "  </thead>\n",
       "  <tbody>\n",
       "    <tr>\n",
       "      <th>5</th>\n",
       "      <td>1970</td>\n",
       "      <td>1</td>\n",
       "      <td>1</td>\n",
       "      <td>United States</td>\n",
       "      <td>North America</td>\n",
       "      <td>Illinois</td>\n",
       "      <td>Cairo</td>\n",
       "      <td>37.005105</td>\n",
       "      <td>-89.176269</td>\n",
       "      <td>1/1/1970: Unknown African American assailants ...</td>\n",
       "      <td>...</td>\n",
       "      <td>0</td>\n",
       "      <td>0</td>\n",
       "      <td>0</td>\n",
       "      <td></td>\n",
       "      <td>0.0</td>\n",
       "      <td>0.0</td>\n",
       "      <td></td>\n",
       "      <td></td>\n",
       "      <td>Hewitt Project</td>\n",
       "      <td>1970-01-01</td>\n",
       "    </tr>\n",
       "    <tr>\n",
       "      <th>10</th>\n",
       "      <td>1970</td>\n",
       "      <td>1</td>\n",
       "      <td>1</td>\n",
       "      <td>United States</td>\n",
       "      <td>North America</td>\n",
       "      <td>Wisconsin</td>\n",
       "      <td>Baraboo</td>\n",
       "      <td>43.468500</td>\n",
       "      <td>-89.744299</td>\n",
       "      <td></td>\n",
       "      <td>...</td>\n",
       "      <td>0</td>\n",
       "      <td>0</td>\n",
       "      <td>0</td>\n",
       "      <td></td>\n",
       "      <td>0.0</td>\n",
       "      <td>0.0</td>\n",
       "      <td></td>\n",
       "      <td></td>\n",
       "      <td>PGIS</td>\n",
       "      <td>1970-01-01</td>\n",
       "    </tr>\n",
       "    <tr>\n",
       "      <th>6</th>\n",
       "      <td>1970</td>\n",
       "      <td>1</td>\n",
       "      <td>2</td>\n",
       "      <td>Uruguay</td>\n",
       "      <td>South America</td>\n",
       "      <td>Montevideo</td>\n",
       "      <td>Montevideo</td>\n",
       "      <td>-34.891151</td>\n",
       "      <td>-56.187214</td>\n",
       "      <td></td>\n",
       "      <td>...</td>\n",
       "      <td>0</td>\n",
       "      <td>0</td>\n",
       "      <td>0</td>\n",
       "      <td></td>\n",
       "      <td>0.0</td>\n",
       "      <td>0.0</td>\n",
       "      <td></td>\n",
       "      <td></td>\n",
       "      <td>PGIS</td>\n",
       "      <td>1970-01-02</td>\n",
       "    </tr>\n",
       "    <tr>\n",
       "      <th>7</th>\n",
       "      <td>1970</td>\n",
       "      <td>1</td>\n",
       "      <td>2</td>\n",
       "      <td>United States</td>\n",
       "      <td>North America</td>\n",
       "      <td>California</td>\n",
       "      <td>Oakland</td>\n",
       "      <td>37.791927</td>\n",
       "      <td>-122.225906</td>\n",
       "      <td>1/2/1970: Unknown perpetrators detonated explo...</td>\n",
       "      <td>...</td>\n",
       "      <td>0</td>\n",
       "      <td>0</td>\n",
       "      <td>0</td>\n",
       "      <td></td>\n",
       "      <td>0.0</td>\n",
       "      <td>0.0</td>\n",
       "      <td></td>\n",
       "      <td></td>\n",
       "      <td>Hewitt Project</td>\n",
       "      <td>1970-01-02</td>\n",
       "    </tr>\n",
       "    <tr>\n",
       "      <th>8</th>\n",
       "      <td>1970</td>\n",
       "      <td>1</td>\n",
       "      <td>2</td>\n",
       "      <td>United States</td>\n",
       "      <td>North America</td>\n",
       "      <td>Wisconsin</td>\n",
       "      <td>Madison</td>\n",
       "      <td>43.076592</td>\n",
       "      <td>-89.412488</td>\n",
       "      <td>1/2/1970: Karl Armstrong, a member of the New ...</td>\n",
       "      <td>...</td>\n",
       "      <td>0</td>\n",
       "      <td>0</td>\n",
       "      <td>0</td>\n",
       "      <td></td>\n",
       "      <td>0.0</td>\n",
       "      <td>0.0</td>\n",
       "      <td></td>\n",
       "      <td></td>\n",
       "      <td>Hewitt Project</td>\n",
       "      <td>1970-01-02</td>\n",
       "    </tr>\n",
       "    <tr>\n",
       "      <th>...</th>\n",
       "      <td>...</td>\n",
       "      <td>...</td>\n",
       "      <td>...</td>\n",
       "      <td>...</td>\n",
       "      <td>...</td>\n",
       "      <td>...</td>\n",
       "      <td>...</td>\n",
       "      <td>...</td>\n",
       "      <td>...</td>\n",
       "      <td>...</td>\n",
       "      <td>...</td>\n",
       "      <td>...</td>\n",
       "      <td>...</td>\n",
       "      <td>...</td>\n",
       "      <td>...</td>\n",
       "      <td>...</td>\n",
       "      <td>...</td>\n",
       "      <td>...</td>\n",
       "      <td>...</td>\n",
       "      <td>...</td>\n",
       "      <td>...</td>\n",
       "    </tr>\n",
       "    <tr>\n",
       "      <th>176995</th>\n",
       "      <td>2017</td>\n",
       "      <td>7</td>\n",
       "      <td>15</td>\n",
       "      <td>Israel</td>\n",
       "      <td>Middle East &amp; North Africa</td>\n",
       "      <td>Northern</td>\n",
       "      <td>Maghar</td>\n",
       "      <td>32.889840</td>\n",
       "      <td>35.407030</td>\n",
       "      <td>07/15/2017: Assailants threw a stun grenade in...</td>\n",
       "      <td>...</td>\n",
       "      <td>0</td>\n",
       "      <td>0</td>\n",
       "      <td>0</td>\n",
       "      <td></td>\n",
       "      <td>0.0</td>\n",
       "      <td>0.0</td>\n",
       "      <td></td>\n",
       "      <td></td>\n",
       "      <td>START Primary Collection</td>\n",
       "      <td>2017-07-15</td>\n",
       "    </tr>\n",
       "    <tr>\n",
       "      <th>176996</th>\n",
       "      <td>2017</td>\n",
       "      <td>7</td>\n",
       "      <td>15</td>\n",
       "      <td>India</td>\n",
       "      <td>South Asia</td>\n",
       "      <td>Punjab</td>\n",
       "      <td>Ludhiana</td>\n",
       "      <td>30.898024</td>\n",
       "      <td>75.860077</td>\n",
       "      <td>07/15/2017: Assailants shot and killed Pastor ...</td>\n",
       "      <td>...</td>\n",
       "      <td>0</td>\n",
       "      <td>0</td>\n",
       "      <td>0</td>\n",
       "      <td></td>\n",
       "      <td>0.0</td>\n",
       "      <td>0.0</td>\n",
       "      <td></td>\n",
       "      <td></td>\n",
       "      <td>START Primary Collection</td>\n",
       "      <td>2017-07-15</td>\n",
       "    </tr>\n",
       "    <tr>\n",
       "      <th>176997</th>\n",
       "      <td>2017</td>\n",
       "      <td>7</td>\n",
       "      <td>15</td>\n",
       "      <td>Iran</td>\n",
       "      <td>Middle East &amp; North Africa</td>\n",
       "      <td>Sistan and Baluchestan</td>\n",
       "      <td>Saravan</td>\n",
       "      <td>27.352729</td>\n",
       "      <td>62.344610</td>\n",
       "      <td>07/15/2017: Assailants in Pakistan armed with ...</td>\n",
       "      <td>...</td>\n",
       "      <td>0</td>\n",
       "      <td>0</td>\n",
       "      <td>0</td>\n",
       "      <td></td>\n",
       "      <td>0.0</td>\n",
       "      <td>0.0</td>\n",
       "      <td></td>\n",
       "      <td></td>\n",
       "      <td>START Primary Collection</td>\n",
       "      <td>2017-07-15</td>\n",
       "    </tr>\n",
       "    <tr>\n",
       "      <th>176998</th>\n",
       "      <td>2017</td>\n",
       "      <td>7</td>\n",
       "      <td>15</td>\n",
       "      <td>Somalia</td>\n",
       "      <td>Sub-Saharan Africa</td>\n",
       "      <td>Bari</td>\n",
       "      <td>Galgala</td>\n",
       "      <td>11.008501</td>\n",
       "      <td>49.025617</td>\n",
       "      <td>07/15/2017: Assailants opened fire on Puntland...</td>\n",
       "      <td>...</td>\n",
       "      <td>0</td>\n",
       "      <td>0</td>\n",
       "      <td>0</td>\n",
       "      <td></td>\n",
       "      <td>0.0</td>\n",
       "      <td>0.0</td>\n",
       "      <td></td>\n",
       "      <td></td>\n",
       "      <td>START Primary Collection</td>\n",
       "      <td>2017-07-15</td>\n",
       "    </tr>\n",
       "    <tr>\n",
       "      <th>176999</th>\n",
       "      <td>2017</td>\n",
       "      <td>7</td>\n",
       "      <td>15</td>\n",
       "      <td>Somalia</td>\n",
       "      <td>Sub-Saharan Africa</td>\n",
       "      <td>Bay</td>\n",
       "      <td>Qansax Dheere</td>\n",
       "      <td>2.868764</td>\n",
       "      <td>43.005299</td>\n",
       "      <td>07/15/2017: Assailants detonated an explosive ...</td>\n",
       "      <td>...</td>\n",
       "      <td>0</td>\n",
       "      <td>0</td>\n",
       "      <td>0</td>\n",
       "      <td></td>\n",
       "      <td>0.0</td>\n",
       "      <td>0.0</td>\n",
       "      <td></td>\n",
       "      <td></td>\n",
       "      <td>START Primary Collection</td>\n",
       "      <td>2017-07-15</td>\n",
       "    </tr>\n",
       "  </tbody>\n",
       "</table>\n",
       "<p>176109 rows × 49 columns</p>\n",
       "</div>"
      ],
      "text/plain": [
       "        iyear  imonth  iday    country_txt                  region_txt  \\\n",
       "5        1970       1     1  United States               North America   \n",
       "10       1970       1     1  United States               North America   \n",
       "6        1970       1     2        Uruguay               South America   \n",
       "7        1970       1     2  United States               North America   \n",
       "8        1970       1     2  United States               North America   \n",
       "...       ...     ...   ...            ...                         ...   \n",
       "176995   2017       7    15         Israel  Middle East & North Africa   \n",
       "176996   2017       7    15          India                  South Asia   \n",
       "176997   2017       7    15           Iran  Middle East & North Africa   \n",
       "176998   2017       7    15        Somalia          Sub-Saharan Africa   \n",
       "176999   2017       7    15        Somalia          Sub-Saharan Africa   \n",
       "\n",
       "                     provstate           city   latitude   longitude  \\\n",
       "5                     Illinois          Cairo  37.005105  -89.176269   \n",
       "10                   Wisconsin        Baraboo  43.468500  -89.744299   \n",
       "6                   Montevideo     Montevideo -34.891151  -56.187214   \n",
       "7                   California        Oakland  37.791927 -122.225906   \n",
       "8                    Wisconsin        Madison  43.076592  -89.412488   \n",
       "...                        ...            ...        ...         ...   \n",
       "176995                Northern         Maghar  32.889840   35.407030   \n",
       "176996                  Punjab       Ludhiana  30.898024   75.860077   \n",
       "176997  Sistan and Baluchestan        Saravan  27.352729   62.344610   \n",
       "176998                    Bari        Galgala  11.008501   49.025617   \n",
       "176999                     Bay  Qansax Dheere   2.868764   43.005299   \n",
       "\n",
       "                                                  summary  ... nhostkidus  \\\n",
       "5       1/1/1970: Unknown African American assailants ...  ...          0   \n",
       "10                                                         ...          0   \n",
       "6                                                          ...          0   \n",
       "7       1/2/1970: Unknown perpetrators detonated explo...  ...          0   \n",
       "8       1/2/1970: Karl Armstrong, a member of the New ...  ...          0   \n",
       "...                                                   ...  ...        ...   \n",
       "176995  07/15/2017: Assailants threw a stun grenade in...  ...          0   \n",
       "176996  07/15/2017: Assailants shot and killed Pastor ...  ...          0   \n",
       "176997  07/15/2017: Assailants in Pakistan armed with ...  ...          0   \n",
       "176998  07/15/2017: Assailants opened fire on Puntland...  ...          0   \n",
       "176999  07/15/2017: Assailants detonated an explosive ...  ...          0   \n",
       "\n",
       "        nhours ndays kidhijcountry ransompaid ransompaidus ransomnote  \\\n",
       "5            0     0                      0.0          0.0              \n",
       "10           0     0                      0.0          0.0              \n",
       "6            0     0                      0.0          0.0              \n",
       "7            0     0                      0.0          0.0              \n",
       "8            0     0                      0.0          0.0              \n",
       "...        ...   ...           ...        ...          ...        ...   \n",
       "176995       0     0                      0.0          0.0              \n",
       "176996       0     0                      0.0          0.0              \n",
       "176997       0     0                      0.0          0.0              \n",
       "176998       0     0                      0.0          0.0              \n",
       "176999       0     0                      0.0          0.0              \n",
       "\n",
       "       hostkidoutcome_txt                  dbsource       date  \n",
       "5                                    Hewitt Project 1970-01-01  \n",
       "10                                             PGIS 1970-01-01  \n",
       "6                                              PGIS 1970-01-02  \n",
       "7                                    Hewitt Project 1970-01-02  \n",
       "8                                    Hewitt Project 1970-01-02  \n",
       "...                   ...                       ...        ...  \n",
       "176995                     START Primary Collection 2017-07-15  \n",
       "176996                     START Primary Collection 2017-07-15  \n",
       "176997                     START Primary Collection 2017-07-15  \n",
       "176998                     START Primary Collection 2017-07-15  \n",
       "176999                     START Primary Collection 2017-07-15  \n",
       "\n",
       "[176109 rows x 49 columns]"
      ]
     },
     "execution_count": 33,
     "metadata": {},
     "output_type": "execute_result"
    }
   ],
   "source": [
    "pretraitement(new_data)"
   ]
  },
  {
   "cell_type": "code",
   "execution_count": 35,
   "metadata": {},
   "outputs": [
    {
     "data": {
      "text/plain": [
       "array([   0,    2,    4,    1,   17,    3,    5,    7,    6,   10,  202,\n",
       "         59,   23,   42,  141,   21,   12,   63,   40,   13,  154,  180,\n",
       "         95,  135,   41,   80,   26,   19,   27,   62,  290,   30,   89,\n",
       "        117,   35,  191,   61,   29,   15,  162,   60,  120,  365,   48,\n",
       "        107,  752,   28,  258,  101,   18,   85,   38,   20,   22,  109,\n",
       "         88,   24,   55,   37,   14,   93,  161,   50,   52,  216,   45,\n",
       "          8,   87,   91,  124,    9,   43,  102,   11,   32,   33,   47,\n",
       "         99,  567,  380, 2454,  114, 1935,   90,  337,  -99,   16,  610,\n",
       "        315,  172,  529,  249,  393,  173,   67,   56,   84,  192,   65,\n",
       "        147,  640,   31,   44,   54,   69,  187,   75,   51,   57,   81,\n",
       "         46,  492,  516,  106,   49,  310,  100,  212,  113,  502,  531,\n",
       "        220,  128,  247,  140,  285,  205,  153,   78,   64,   25,  103,\n",
       "        264,  261,   39,  244,  330,   94,  179,  208,  122,  115,  232,\n",
       "         34,  197,   68,  360,  112,   36,  450,   70,  269,  138,   71,\n",
       "        228,  373,  370,  168,  379,  270,   97, 1474,  410,  311,  167,\n",
       "         82,  194, 1941,  524,   53,  940,  252,  126,  104,  459,  131,\n",
       "        259,  238,  170,  110,  623, 1796, 1282,   77,  108,   58,  305,\n",
       "        155, 1340, 1451, 1129, 1879,  174,  613,  440,  299,  190,  301,\n",
       "        152, 1250,  127,  919,  643,  874, 1111, 2078,  474, 1091,  976,\n",
       "        463,   86,  266,  350, 1069,  218,  877,  414,  514,  540,  694,\n",
       "        159,  395,  151, 1826, 1271,  674,  125,  263,  333,  210,  221,\n",
       "         74,  242,  550,  745,  556, 1097,  398,  118,  339,  761,  558,\n",
       "         79,  188,  129,  243,  592,  394,  555,  952,  444,  111, 1110,\n",
       "        411,  231,  347,  508,   96,  281,  132,   73,  204,  164,   72,\n",
       "        267,  236,   76,  175,  460,  136,  713,  738,  265,   92,  993,\n",
       "        707,  105,  160,  130,  237,  189,  163,  689,   66,   98,  705,\n",
       "        176,  193,  419,  282,  298,  260,  363,  486,  184,  294,  313,\n",
       "        148,  225,  213,  229,  345,  413,  158,  793,  139,  532,  362,\n",
       "        307,  119,  699,  553,  241,  183,  378,  251,  462,  206,  404,\n",
       "        427,  273,  292,  209,  133])"
      ]
     },
     "execution_count": 35,
     "metadata": {},
     "output_type": "execute_result"
    }
   ],
   "source": [
    "new_data[\"ndays\"].unique()"
   ]
  },
  {
   "cell_type": "code",
   "execution_count": 29,
   "metadata": {},
   "outputs": [],
   "source": [
    "with open('packages/data/cleaned/terror_test.txt', \"wb\") as f:\n",
    "    pickled = pickle.Pickler(f)\n",
    "    pickled.dump(new_data)"
   ]
  },
  {
   "cell_type": "code",
   "execution_count": null,
   "metadata": {},
   "outputs": [],
   "source": []
  }
 ],
 "metadata": {
  "interpreter": {
   "hash": "d9cb4fe90d1e8890f1d760e5203fc044f921dddd2ce0dfa0f0205b983aed132e"
  },
  "kernelspec": {
   "display_name": "Python 3.9.0 32-bit",
   "language": "python",
   "name": "python3"
  },
  "language_info": {
   "codemirror_mode": {
    "name": "ipython",
    "version": 3
   },
   "file_extension": ".py",
   "mimetype": "text/x-python",
   "name": "python",
   "nbconvert_exporter": "python",
   "pygments_lexer": "ipython3",
   "version": "3.9.7"
  },
  "orig_nbformat": 4
 },
 "nbformat": 4,
 "nbformat_minor": 2
}
