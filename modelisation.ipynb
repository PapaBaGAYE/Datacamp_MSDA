{
  "cells": [
    {
      "cell_type": "code",
      "execution_count": 4,
      "metadata": {
        "colab": {
          "base_uri": "https://localhost:8080/"
        },
        "id": "3HVkBiRtDnwc",
        "outputId": "2f1f0b8f-ca31-4c87-b73c-260a510ee98d"
      },
      "outputs": [
        {
          "name": "stdout",
          "output_type": "stream",
          "text": [
            "Requirement already satisfied: pmdarima in c:\\users\\oumar kane\\appdata\\local\\programs\\python\\python39\\lib\\site-packages (1.8.5)\n",
            "Requirement already satisfied: joblib>=0.11 in c:\\users\\oumar kane\\appdata\\local\\programs\\python\\python39\\lib\\site-packages (from pmdarima) (1.0.1)\n",
            "Requirement already satisfied: scikit-learn>=0.22 in c:\\users\\oumar kane\\appdata\\local\\programs\\python\\python39\\lib\\site-packages (from pmdarima) (1.0.1)\n",
            "Requirement already satisfied: setuptools!=50.0.0,>=38.6.0 in c:\\users\\oumar kane\\appdata\\local\\programs\\python\\python39\\lib\\site-packages (from pmdarima) (57.4.0)\n",
            "Requirement already satisfied: pandas>=0.19 in c:\\users\\oumar kane\\appdata\\local\\programs\\python\\python39\\lib\\site-packages (from pmdarima) (1.3.5)\n",
            "Requirement already satisfied: urllib3 in c:\\users\\oumar kane\\appdata\\local\\programs\\python\\python39\\lib\\site-packages (from pmdarima) (1.26.7)\n",
            "Requirement already satisfied: scipy>=1.3.2 in c:\\users\\oumar kane\\appdata\\local\\programs\\python\\python39\\lib\\site-packages (from pmdarima) (1.7.2)\n",
            "Requirement already satisfied: statsmodels!=0.12.0,>=0.11 in c:\\users\\oumar kane\\appdata\\local\\programs\\python\\python39\\lib\\site-packages (from pmdarima) (0.13.2)\n",
            "Requirement already satisfied: Cython!=0.29.18,>=0.29 in c:\\users\\oumar kane\\appdata\\local\\programs\\python\\python39\\lib\\site-packages (from pmdarima) (0.29.30)\n",
            "Requirement already satisfied: numpy>=1.19.3 in c:\\users\\oumar kane\\appdata\\local\\programs\\python\\python39\\lib\\site-packages (from pmdarima) (1.21.4)\n",
            "Requirement already satisfied: python-dateutil>=2.7.3 in c:\\users\\oumar kane\\appdata\\local\\programs\\python\\python39\\lib\\site-packages (from pandas>=0.19->pmdarima) (2.8.2)\n",
            "Requirement already satisfied: pytz>=2017.3 in c:\\users\\oumar kane\\appdata\\local\\programs\\python\\python39\\lib\\site-packages (from pandas>=0.19->pmdarima) (2021.3)\n",
            "Requirement already satisfied: six>=1.5 in c:\\users\\oumar kane\\appdata\\local\\programs\\python\\python39\\lib\\site-packages (from python-dateutil>=2.7.3->pandas>=0.19->pmdarima) (1.16.0)\n",
            "Requirement already satisfied: threadpoolctl>=2.0.0 in c:\\users\\oumar kane\\appdata\\local\\programs\\python\\python39\\lib\\site-packages (from scikit-learn>=0.22->pmdarima) (3.0.0)\n",
            "Requirement already satisfied: patsy>=0.5.2 in c:\\users\\oumar kane\\appdata\\local\\programs\\python\\python39\\lib\\site-packages (from statsmodels!=0.12.0,>=0.11->pmdarima) (0.5.2)\n",
            "Requirement already satisfied: packaging>=21.3 in c:\\users\\oumar kane\\appdata\\local\\programs\\python\\python39\\lib\\site-packages (from statsmodels!=0.12.0,>=0.11->pmdarima) (21.3)\n",
            "Requirement already satisfied: pyparsing!=3.0.5,>=2.0.2 in c:\\users\\oumar kane\\appdata\\local\\programs\\python\\python39\\lib\\site-packages (from packaging>=21.3->statsmodels!=0.12.0,>=0.11->pmdarima) (3.0.6)\n",
            "Note: you may need to restart the kernel to use updated packages.\n"
          ]
        },
        {
          "name": "stderr",
          "output_type": "stream",
          "text": [
            "WARNING: Ignoring invalid distribution -ymongo (c:\\users\\oumar kane\\appdata\\local\\programs\\python\\python39\\lib\\site-packages)\n",
            "WARNING: Ignoring invalid distribution -lotly (c:\\users\\oumar kane\\appdata\\local\\programs\\python\\python39\\lib\\site-packages)\n",
            "WARNING: Ignoring invalid distribution -ymongo (c:\\users\\oumar kane\\appdata\\local\\programs\\python\\python39\\lib\\site-packages)\n",
            "WARNING: Ignoring invalid distribution -lotly (c:\\users\\oumar kane\\appdata\\local\\programs\\python\\python39\\lib\\site-packages)\n",
            "WARNING: Ignoring invalid distribution -ymongo (c:\\users\\oumar kane\\appdata\\local\\programs\\python\\python39\\lib\\site-packages)\n",
            "WARNING: Ignoring invalid distribution -lotly (c:\\users\\oumar kane\\appdata\\local\\programs\\python\\python39\\lib\\site-packages)\n",
            "WARNING: Ignoring invalid distribution -ymongo (c:\\users\\oumar kane\\appdata\\local\\programs\\python\\python39\\lib\\site-packages)\n",
            "WARNING: Ignoring invalid distribution -lotly (c:\\users\\oumar kane\\appdata\\local\\programs\\python\\python39\\lib\\site-packages)\n",
            "WARNING: Ignoring invalid distribution -ymongo (c:\\users\\oumar kane\\appdata\\local\\programs\\python\\python39\\lib\\site-packages)\n",
            "WARNING: Ignoring invalid distribution -lotly (c:\\users\\oumar kane\\appdata\\local\\programs\\python\\python39\\lib\\site-packages)\n",
            "WARNING: Ignoring invalid distribution -ymongo (c:\\users\\oumar kane\\appdata\\local\\programs\\python\\python39\\lib\\site-packages)\n",
            "WARNING: Ignoring invalid distribution -lotly (c:\\users\\oumar kane\\appdata\\local\\programs\\python\\python39\\lib\\site-packages)\n",
            "WARNING: You are using pip version 21.2.3; however, version 22.1.1 is available.\n",
            "You should consider upgrading via the 'c:\\Users\\Oumar Kane\\AppData\\Local\\Programs\\Python\\Python39\\python.exe -m pip install --upgrade pip' command.\n"
          ]
        }
      ],
      "source": [
        "pip install pmdarima"
      ]
    },
    {
      "cell_type": "code",
      "execution_count": 5,
      "metadata": {
        "colab": {
          "base_uri": "https://localhost:8080/"
        },
        "id": "G7DcrODgR4LC",
        "outputId": "2a3e7e7b-e3b4-4aa4-f599-e3a0e1e471c9"
      },
      "outputs": [],
      "source": [
        "# from google.colab import drive\n",
        "# drive.mount('/content/drive')"
      ]
    },
    {
      "cell_type": "code",
      "execution_count": 6,
      "metadata": {
        "id": "YtOF44odRJHU"
      },
      "outputs": [],
      "source": [
        "import datetime\n",
        "import matplotlib.pyplot as plt\n",
        "import seaborn as sns\n",
        "import pandas as pd\n",
        "from sklearn.preprocessing import MinMaxScaler"
      ]
    },
    {
      "cell_type": "code",
      "execution_count": 112,
      "metadata": {
        "colab": {
          "base_uri": "https://localhost:8080/",
          "height": 797
        },
        "id": "Lo9275ABRZTx",
        "outputId": "68906074-6896-4ca3-805e-67230f1cc241"
      },
      "outputs": [
        {
          "data": {
            "text/html": [
              "<div>\n",
              "<style scoped>\n",
              "    .dataframe tbody tr th:only-of-type {\n",
              "        vertical-align: middle;\n",
              "    }\n",
              "\n",
              "    .dataframe tbody tr th {\n",
              "        vertical-align: top;\n",
              "    }\n",
              "\n",
              "    .dataframe thead th {\n",
              "        text-align: right;\n",
              "    }\n",
              "</style>\n",
              "<table border=\"1\" class=\"dataframe\">\n",
              "  <thead>\n",
              "    <tr style=\"text-align: right;\">\n",
              "      <th></th>\n",
              "      <th>eventid</th>\n",
              "      <th>extended</th>\n",
              "      <th>country</th>\n",
              "      <th>country_txt</th>\n",
              "      <th>region</th>\n",
              "      <th>region_txt</th>\n",
              "      <th>provstate</th>\n",
              "      <th>city</th>\n",
              "      <th>latitude</th>\n",
              "      <th>longitude</th>\n",
              "      <th>...</th>\n",
              "      <th>weapsubtype1_txt</th>\n",
              "      <th>nkill</th>\n",
              "      <th>nwound</th>\n",
              "      <th>property</th>\n",
              "      <th>ishostkid</th>\n",
              "      <th>dbsource</th>\n",
              "      <th>INT_LOG</th>\n",
              "      <th>INT_IDEO</th>\n",
              "      <th>INT_MISC</th>\n",
              "      <th>INT_ANY</th>\n",
              "    </tr>\n",
              "    <tr>\n",
              "      <th>date</th>\n",
              "      <th></th>\n",
              "      <th></th>\n",
              "      <th></th>\n",
              "      <th></th>\n",
              "      <th></th>\n",
              "      <th></th>\n",
              "      <th></th>\n",
              "      <th></th>\n",
              "      <th></th>\n",
              "      <th></th>\n",
              "      <th></th>\n",
              "      <th></th>\n",
              "      <th></th>\n",
              "      <th></th>\n",
              "      <th></th>\n",
              "      <th></th>\n",
              "      <th></th>\n",
              "      <th></th>\n",
              "      <th></th>\n",
              "      <th></th>\n",
              "      <th></th>\n",
              "    </tr>\n",
              "  </thead>\n",
              "  <tbody>\n",
              "    <tr>\n",
              "      <th>1970-01-01</th>\n",
              "      <td>197001010002</td>\n",
              "      <td>0</td>\n",
              "      <td>217</td>\n",
              "      <td>United States</td>\n",
              "      <td>1</td>\n",
              "      <td>North America</td>\n",
              "      <td>Illinois</td>\n",
              "      <td>Cairo</td>\n",
              "      <td>37.005105</td>\n",
              "      <td>-89.176269</td>\n",
              "      <td>...</td>\n",
              "      <td>Unknown Gun Type</td>\n",
              "      <td>0.0</td>\n",
              "      <td>0.0</td>\n",
              "      <td>1</td>\n",
              "      <td>0.0</td>\n",
              "      <td>Hewitt Project</td>\n",
              "      <td>-9</td>\n",
              "      <td>-9</td>\n",
              "      <td>0</td>\n",
              "      <td>-9</td>\n",
              "    </tr>\n",
              "    <tr>\n",
              "      <th>1970-01-01</th>\n",
              "      <td>197001050001</td>\n",
              "      <td>0</td>\n",
              "      <td>217</td>\n",
              "      <td>United States</td>\n",
              "      <td>1</td>\n",
              "      <td>North America</td>\n",
              "      <td>Wisconsin</td>\n",
              "      <td>Baraboo</td>\n",
              "      <td>43.468500</td>\n",
              "      <td>-89.744299</td>\n",
              "      <td>...</td>\n",
              "      <td>Unknown Explosive Type</td>\n",
              "      <td>0.0</td>\n",
              "      <td>0.0</td>\n",
              "      <td>0</td>\n",
              "      <td>0.0</td>\n",
              "      <td>PGIS</td>\n",
              "      <td>0</td>\n",
              "      <td>0</td>\n",
              "      <td>0</td>\n",
              "      <td>0</td>\n",
              "    </tr>\n",
              "    <tr>\n",
              "      <th>1970-01-02</th>\n",
              "      <td>197001020001</td>\n",
              "      <td>0</td>\n",
              "      <td>218</td>\n",
              "      <td>Uruguay</td>\n",
              "      <td>3</td>\n",
              "      <td>South America</td>\n",
              "      <td>Montevideo</td>\n",
              "      <td>Montevideo</td>\n",
              "      <td>-34.891151</td>\n",
              "      <td>-56.187214</td>\n",
              "      <td>...</td>\n",
              "      <td>Automatic or Semi-Automatic Rifle</td>\n",
              "      <td>0.0</td>\n",
              "      <td>0.0</td>\n",
              "      <td>0</td>\n",
              "      <td>0.0</td>\n",
              "      <td>PGIS</td>\n",
              "      <td>0</td>\n",
              "      <td>0</td>\n",
              "      <td>0</td>\n",
              "      <td>0</td>\n",
              "    </tr>\n",
              "    <tr>\n",
              "      <th>1970-01-02</th>\n",
              "      <td>197001020002</td>\n",
              "      <td>0</td>\n",
              "      <td>217</td>\n",
              "      <td>United States</td>\n",
              "      <td>1</td>\n",
              "      <td>North America</td>\n",
              "      <td>California</td>\n",
              "      <td>Oakland</td>\n",
              "      <td>37.791927</td>\n",
              "      <td>-122.225906</td>\n",
              "      <td>...</td>\n",
              "      <td>Unknown Explosive Type</td>\n",
              "      <td>0.0</td>\n",
              "      <td>0.0</td>\n",
              "      <td>1</td>\n",
              "      <td>0.0</td>\n",
              "      <td>Hewitt Project</td>\n",
              "      <td>-9</td>\n",
              "      <td>-9</td>\n",
              "      <td>0</td>\n",
              "      <td>-9</td>\n",
              "    </tr>\n",
              "    <tr>\n",
              "      <th>1970-01-02</th>\n",
              "      <td>197001020003</td>\n",
              "      <td>0</td>\n",
              "      <td>217</td>\n",
              "      <td>United States</td>\n",
              "      <td>1</td>\n",
              "      <td>North America</td>\n",
              "      <td>Wisconsin</td>\n",
              "      <td>Madison</td>\n",
              "      <td>43.076592</td>\n",
              "      <td>-89.412488</td>\n",
              "      <td>...</td>\n",
              "      <td>Molotov Cocktail/Petrol Bomb</td>\n",
              "      <td>0.0</td>\n",
              "      <td>0.0</td>\n",
              "      <td>1</td>\n",
              "      <td>0.0</td>\n",
              "      <td>Hewitt Project</td>\n",
              "      <td>0</td>\n",
              "      <td>0</td>\n",
              "      <td>0</td>\n",
              "      <td>0</td>\n",
              "    </tr>\n",
              "    <tr>\n",
              "      <th>...</th>\n",
              "      <td>...</td>\n",
              "      <td>...</td>\n",
              "      <td>...</td>\n",
              "      <td>...</td>\n",
              "      <td>...</td>\n",
              "      <td>...</td>\n",
              "      <td>...</td>\n",
              "      <td>...</td>\n",
              "      <td>...</td>\n",
              "      <td>...</td>\n",
              "      <td>...</td>\n",
              "      <td>...</td>\n",
              "      <td>...</td>\n",
              "      <td>...</td>\n",
              "      <td>...</td>\n",
              "      <td>...</td>\n",
              "      <td>...</td>\n",
              "      <td>...</td>\n",
              "      <td>...</td>\n",
              "      <td>...</td>\n",
              "      <td>...</td>\n",
              "    </tr>\n",
              "    <tr>\n",
              "      <th>2017-12-31</th>\n",
              "      <td>201712290032</td>\n",
              "      <td>0</td>\n",
              "      <td>78</td>\n",
              "      <td>Greece</td>\n",
              "      <td>8</td>\n",
              "      <td>Western Europe</td>\n",
              "      <td>Attica</td>\n",
              "      <td>Piraeus</td>\n",
              "      <td>37.969891</td>\n",
              "      <td>23.642225</td>\n",
              "      <td>...</td>\n",
              "      <td>''</td>\n",
              "      <td>0.0</td>\n",
              "      <td>0.0</td>\n",
              "      <td>-9</td>\n",
              "      <td>0.0</td>\n",
              "      <td>START Primary Collection</td>\n",
              "      <td>0</td>\n",
              "      <td>1</td>\n",
              "      <td>1</td>\n",
              "      <td>1</td>\n",
              "    </tr>\n",
              "    <tr>\n",
              "      <th>2017-12-31</th>\n",
              "      <td>201712300002</td>\n",
              "      <td>0</td>\n",
              "      <td>95</td>\n",
              "      <td>Iraq</td>\n",
              "      <td>10</td>\n",
              "      <td>Middle East &amp; North Africa</td>\n",
              "      <td>Kirkuk</td>\n",
              "      <td>Kirkuk</td>\n",
              "      <td>35.452110</td>\n",
              "      <td>44.375465</td>\n",
              "      <td>...</td>\n",
              "      <td>Other Explosive Type</td>\n",
              "      <td>0.0</td>\n",
              "      <td>0.0</td>\n",
              "      <td>0</td>\n",
              "      <td>0.0</td>\n",
              "      <td>START Primary Collection</td>\n",
              "      <td>-9</td>\n",
              "      <td>-9</td>\n",
              "      <td>0</td>\n",
              "      <td>-9</td>\n",
              "    </tr>\n",
              "    <tr>\n",
              "      <th>2017-12-31</th>\n",
              "      <td>201712300011</td>\n",
              "      <td>0</td>\n",
              "      <td>37</td>\n",
              "      <td>Cameroon</td>\n",
              "      <td>11</td>\n",
              "      <td>Sub-Saharan Africa</td>\n",
              "      <td>Extreme-North</td>\n",
              "      <td>Bia</td>\n",
              "      <td>11.169421</td>\n",
              "      <td>14.092274</td>\n",
              "      <td>...</td>\n",
              "      <td>Suicide (carried bodily by human being)</td>\n",
              "      <td>2.0</td>\n",
              "      <td>28.0</td>\n",
              "      <td>1</td>\n",
              "      <td>0.0</td>\n",
              "      <td>START Primary Collection</td>\n",
              "      <td>1</td>\n",
              "      <td>1</td>\n",
              "      <td>0</td>\n",
              "      <td>1</td>\n",
              "    </tr>\n",
              "    <tr>\n",
              "      <th>2017-12-31</th>\n",
              "      <td>201712310009</td>\n",
              "      <td>0</td>\n",
              "      <td>4</td>\n",
              "      <td>Afghanistan</td>\n",
              "      <td>6</td>\n",
              "      <td>South Asia</td>\n",
              "      <td>Logar</td>\n",
              "      <td>Mohammad Agha district</td>\n",
              "      <td>34.217806</td>\n",
              "      <td>69.109316</td>\n",
              "      <td>...</td>\n",
              "      <td>Remote Trigger</td>\n",
              "      <td>5.0</td>\n",
              "      <td>0.0</td>\n",
              "      <td>1</td>\n",
              "      <td>0.0</td>\n",
              "      <td>START Primary Collection</td>\n",
              "      <td>0</td>\n",
              "      <td>0</td>\n",
              "      <td>0</td>\n",
              "      <td>0</td>\n",
              "    </tr>\n",
              "    <tr>\n",
              "      <th>2017-12-31</th>\n",
              "      <td>201712310032</td>\n",
              "      <td>0</td>\n",
              "      <td>160</td>\n",
              "      <td>Philippines</td>\n",
              "      <td>5</td>\n",
              "      <td>Southeast Asia</td>\n",
              "      <td>Maguindanao</td>\n",
              "      <td>Cotabato City</td>\n",
              "      <td>7.209594</td>\n",
              "      <td>124.241966</td>\n",
              "      <td>...</td>\n",
              "      <td>Unknown Explosive Type</td>\n",
              "      <td>0.0</td>\n",
              "      <td>0.0</td>\n",
              "      <td>0</td>\n",
              "      <td>0.0</td>\n",
              "      <td>START Primary Collection</td>\n",
              "      <td>-9</td>\n",
              "      <td>-9</td>\n",
              "      <td>0</td>\n",
              "      <td>-9</td>\n",
              "    </tr>\n",
              "  </tbody>\n",
              "</table>\n",
              "<p>180800 rows × 44 columns</p>\n",
              "</div>"
            ],
            "text/plain": [
              "                 eventid  extended  country    country_txt  region  \\\n",
              "date                                                                 \n",
              "1970-01-01  197001010002         0      217  United States       1   \n",
              "1970-01-01  197001050001         0      217  United States       1   \n",
              "1970-01-02  197001020001         0      218        Uruguay       3   \n",
              "1970-01-02  197001020002         0      217  United States       1   \n",
              "1970-01-02  197001020003         0      217  United States       1   \n",
              "...                  ...       ...      ...            ...     ...   \n",
              "2017-12-31  201712290032         0       78         Greece       8   \n",
              "2017-12-31  201712300002         0       95           Iraq      10   \n",
              "2017-12-31  201712300011         0       37       Cameroon      11   \n",
              "2017-12-31  201712310009         0        4    Afghanistan       6   \n",
              "2017-12-31  201712310032         0      160    Philippines       5   \n",
              "\n",
              "                            region_txt      provstate                    city  \\\n",
              "date                                                                            \n",
              "1970-01-01               North America       Illinois                   Cairo   \n",
              "1970-01-01               North America      Wisconsin                 Baraboo   \n",
              "1970-01-02               South America     Montevideo              Montevideo   \n",
              "1970-01-02               North America     California                 Oakland   \n",
              "1970-01-02               North America      Wisconsin                 Madison   \n",
              "...                                ...            ...                     ...   \n",
              "2017-12-31              Western Europe         Attica                 Piraeus   \n",
              "2017-12-31  Middle East & North Africa         Kirkuk                  Kirkuk   \n",
              "2017-12-31          Sub-Saharan Africa  Extreme-North                     Bia   \n",
              "2017-12-31                  South Asia          Logar  Mohammad Agha district   \n",
              "2017-12-31              Southeast Asia    Maguindanao           Cotabato City   \n",
              "\n",
              "             latitude   longitude  ...  \\\n",
              "date                               ...   \n",
              "1970-01-01  37.005105  -89.176269  ...   \n",
              "1970-01-01  43.468500  -89.744299  ...   \n",
              "1970-01-02 -34.891151  -56.187214  ...   \n",
              "1970-01-02  37.791927 -122.225906  ...   \n",
              "1970-01-02  43.076592  -89.412488  ...   \n",
              "...               ...         ...  ...   \n",
              "2017-12-31  37.969891   23.642225  ...   \n",
              "2017-12-31  35.452110   44.375465  ...   \n",
              "2017-12-31  11.169421   14.092274  ...   \n",
              "2017-12-31  34.217806   69.109316  ...   \n",
              "2017-12-31   7.209594  124.241966  ...   \n",
              "\n",
              "                                   weapsubtype1_txt  nkill  nwound  property  \\\n",
              "date                                                                           \n",
              "1970-01-01                         Unknown Gun Type    0.0     0.0         1   \n",
              "1970-01-01                   Unknown Explosive Type    0.0     0.0         0   \n",
              "1970-01-02        Automatic or Semi-Automatic Rifle    0.0     0.0         0   \n",
              "1970-01-02                   Unknown Explosive Type    0.0     0.0         1   \n",
              "1970-01-02             Molotov Cocktail/Petrol Bomb    0.0     0.0         1   \n",
              "...                                             ...    ...     ...       ...   \n",
              "2017-12-31                                       ''    0.0     0.0        -9   \n",
              "2017-12-31                     Other Explosive Type    0.0     0.0         0   \n",
              "2017-12-31  Suicide (carried bodily by human being)    2.0    28.0         1   \n",
              "2017-12-31                           Remote Trigger    5.0     0.0         1   \n",
              "2017-12-31                   Unknown Explosive Type    0.0     0.0         0   \n",
              "\n",
              "            ishostkid                  dbsource  INT_LOG  INT_IDEO  INT_MISC  \\\n",
              "date                                                                           \n",
              "1970-01-01        0.0            Hewitt Project       -9        -9         0   \n",
              "1970-01-01        0.0                      PGIS        0         0         0   \n",
              "1970-01-02        0.0                      PGIS        0         0         0   \n",
              "1970-01-02        0.0            Hewitt Project       -9        -9         0   \n",
              "1970-01-02        0.0            Hewitt Project        0         0         0   \n",
              "...               ...                       ...      ...       ...       ...   \n",
              "2017-12-31        0.0  START Primary Collection        0         1         1   \n",
              "2017-12-31        0.0  START Primary Collection       -9        -9         0   \n",
              "2017-12-31        0.0  START Primary Collection        1         1         0   \n",
              "2017-12-31        0.0  START Primary Collection        0         0         0   \n",
              "2017-12-31        0.0  START Primary Collection       -9        -9         0   \n",
              "\n",
              "            INT_ANY  \n",
              "date                 \n",
              "1970-01-01       -9  \n",
              "1970-01-01        0  \n",
              "1970-01-02        0  \n",
              "1970-01-02       -9  \n",
              "1970-01-02        0  \n",
              "...             ...  \n",
              "2017-12-31        1  \n",
              "2017-12-31       -9  \n",
              "2017-12-31        1  \n",
              "2017-12-31        0  \n",
              "2017-12-31       -9  \n",
              "\n",
              "[180800 rows x 44 columns]"
            ]
          },
          "execution_count": 112,
          "metadata": {},
          "output_type": "execute_result"
        }
      ],
      "source": [
        "df=pd.read_csv('packages/data/cleaned/terrorism.csv',encoding = \"ISO-8859-1\",index_col='date',parse_dates=True)\n",
        "\n",
        "df"
      ]
    },
    {
      "cell_type": "code",
      "execution_count": 48,
      "metadata": {},
      "outputs": [
        {
          "data": {
            "text/html": [
              "<div>\n",
              "<style scoped>\n",
              "    .dataframe tbody tr th:only-of-type {\n",
              "        vertical-align: middle;\n",
              "    }\n",
              "\n",
              "    .dataframe tbody tr th {\n",
              "        vertical-align: top;\n",
              "    }\n",
              "\n",
              "    .dataframe thead th {\n",
              "        text-align: right;\n",
              "    }\n",
              "</style>\n",
              "<table border=\"1\" class=\"dataframe\">\n",
              "  <thead>\n",
              "    <tr style=\"text-align: right;\">\n",
              "      <th></th>\n",
              "      <th>iday</th>\n",
              "      <th>imonth</th>\n",
              "      <th>nkill</th>\n",
              "      <th>country_txt</th>\n",
              "      <th>nwound</th>\n",
              "      <th>region_txt</th>\n",
              "      <th>provstate</th>\n",
              "      <th>city</th>\n",
              "      <th>nkillus</th>\n",
              "      <th>nwoundus</th>\n",
              "      <th>...</th>\n",
              "      <th>targtype2_txt</th>\n",
              "      <th>targsubtype2_txt</th>\n",
              "      <th>targtype3_txt</th>\n",
              "      <th>targsubtype3_txt</th>\n",
              "      <th>claimmode_txt</th>\n",
              "      <th>propextent_txt</th>\n",
              "      <th>propextent</th>\n",
              "      <th>propvalue</th>\n",
              "      <th>dbsource</th>\n",
              "      <th>date</th>\n",
              "    </tr>\n",
              "    <tr>\n",
              "      <th>iyear</th>\n",
              "      <th></th>\n",
              "      <th></th>\n",
              "      <th></th>\n",
              "      <th></th>\n",
              "      <th></th>\n",
              "      <th></th>\n",
              "      <th></th>\n",
              "      <th></th>\n",
              "      <th></th>\n",
              "      <th></th>\n",
              "      <th></th>\n",
              "      <th></th>\n",
              "      <th></th>\n",
              "      <th></th>\n",
              "      <th></th>\n",
              "      <th></th>\n",
              "      <th></th>\n",
              "      <th></th>\n",
              "      <th></th>\n",
              "      <th></th>\n",
              "      <th></th>\n",
              "    </tr>\n",
              "  </thead>\n",
              "  <tbody>\n",
              "    <tr>\n",
              "      <th>1970</th>\n",
              "      <td>1</td>\n",
              "      <td>1</td>\n",
              "      <td>0.0</td>\n",
              "      <td>United States</td>\n",
              "      <td>0.0</td>\n",
              "      <td>North America</td>\n",
              "      <td>Illinois</td>\n",
              "      <td>Cairo</td>\n",
              "      <td>0.0</td>\n",
              "      <td>0.0</td>\n",
              "      <td>...</td>\n",
              "      <td>''</td>\n",
              "      <td>''</td>\n",
              "      <td>''</td>\n",
              "      <td>''</td>\n",
              "      <td>''</td>\n",
              "      <td>Minor (likely &lt; $1 million)</td>\n",
              "      <td>3.0</td>\n",
              "      <td>0.0</td>\n",
              "      <td>Hewitt Project</td>\n",
              "      <td>1970-01-01</td>\n",
              "    </tr>\n",
              "    <tr>\n",
              "      <th>1970</th>\n",
              "      <td>1</td>\n",
              "      <td>1</td>\n",
              "      <td>0.0</td>\n",
              "      <td>United States</td>\n",
              "      <td>0.0</td>\n",
              "      <td>North America</td>\n",
              "      <td>Wisconsin</td>\n",
              "      <td>Baraboo</td>\n",
              "      <td>0.0</td>\n",
              "      <td>0.0</td>\n",
              "      <td>...</td>\n",
              "      <td>''</td>\n",
              "      <td>''</td>\n",
              "      <td>''</td>\n",
              "      <td>''</td>\n",
              "      <td>''</td>\n",
              "      <td>Minor (likely &lt; $1 million)</td>\n",
              "      <td>3.0</td>\n",
              "      <td>0.0</td>\n",
              "      <td>PGIS</td>\n",
              "      <td>1970-01-01</td>\n",
              "    </tr>\n",
              "    <tr>\n",
              "      <th>1970</th>\n",
              "      <td>2</td>\n",
              "      <td>1</td>\n",
              "      <td>0.0</td>\n",
              "      <td>Uruguay</td>\n",
              "      <td>0.0</td>\n",
              "      <td>South America</td>\n",
              "      <td>Montevideo</td>\n",
              "      <td>Montevideo</td>\n",
              "      <td>0.0</td>\n",
              "      <td>0.0</td>\n",
              "      <td>...</td>\n",
              "      <td>''</td>\n",
              "      <td>''</td>\n",
              "      <td>''</td>\n",
              "      <td>''</td>\n",
              "      <td>''</td>\n",
              "      <td>''</td>\n",
              "      <td>0.0</td>\n",
              "      <td>0.0</td>\n",
              "      <td>PGIS</td>\n",
              "      <td>1970-01-02</td>\n",
              "    </tr>\n",
              "    <tr>\n",
              "      <th>1970</th>\n",
              "      <td>2</td>\n",
              "      <td>1</td>\n",
              "      <td>0.0</td>\n",
              "      <td>United States</td>\n",
              "      <td>0.0</td>\n",
              "      <td>North America</td>\n",
              "      <td>California</td>\n",
              "      <td>Oakland</td>\n",
              "      <td>0.0</td>\n",
              "      <td>0.0</td>\n",
              "      <td>...</td>\n",
              "      <td>''</td>\n",
              "      <td>''</td>\n",
              "      <td>''</td>\n",
              "      <td>''</td>\n",
              "      <td>''</td>\n",
              "      <td>Minor (likely &lt; $1 million)</td>\n",
              "      <td>3.0</td>\n",
              "      <td>22500.0</td>\n",
              "      <td>Hewitt Project</td>\n",
              "      <td>1970-01-02</td>\n",
              "    </tr>\n",
              "    <tr>\n",
              "      <th>1970</th>\n",
              "      <td>2</td>\n",
              "      <td>1</td>\n",
              "      <td>0.0</td>\n",
              "      <td>United States</td>\n",
              "      <td>0.0</td>\n",
              "      <td>North America</td>\n",
              "      <td>Wisconsin</td>\n",
              "      <td>Madison</td>\n",
              "      <td>0.0</td>\n",
              "      <td>0.0</td>\n",
              "      <td>...</td>\n",
              "      <td>''</td>\n",
              "      <td>''</td>\n",
              "      <td>''</td>\n",
              "      <td>''</td>\n",
              "      <td>Letter</td>\n",
              "      <td>Minor (likely &lt; $1 million)</td>\n",
              "      <td>3.0</td>\n",
              "      <td>60000.0</td>\n",
              "      <td>Hewitt Project</td>\n",
              "      <td>1970-01-02</td>\n",
              "    </tr>\n",
              "    <tr>\n",
              "      <th>...</th>\n",
              "      <td>...</td>\n",
              "      <td>...</td>\n",
              "      <td>...</td>\n",
              "      <td>...</td>\n",
              "      <td>...</td>\n",
              "      <td>...</td>\n",
              "      <td>...</td>\n",
              "      <td>...</td>\n",
              "      <td>...</td>\n",
              "      <td>...</td>\n",
              "      <td>...</td>\n",
              "      <td>...</td>\n",
              "      <td>...</td>\n",
              "      <td>...</td>\n",
              "      <td>...</td>\n",
              "      <td>...</td>\n",
              "      <td>...</td>\n",
              "      <td>...</td>\n",
              "      <td>...</td>\n",
              "      <td>...</td>\n",
              "      <td>...</td>\n",
              "    </tr>\n",
              "    <tr>\n",
              "      <th>2017</th>\n",
              "      <td>31</td>\n",
              "      <td>12</td>\n",
              "      <td>0.0</td>\n",
              "      <td>Somalia</td>\n",
              "      <td>0.0</td>\n",
              "      <td>Sub-Saharan Africa</td>\n",
              "      <td>Bakool</td>\n",
              "      <td>Wajid</td>\n",
              "      <td>0.0</td>\n",
              "      <td>0.0</td>\n",
              "      <td>...</td>\n",
              "      <td>''</td>\n",
              "      <td>''</td>\n",
              "      <td>''</td>\n",
              "      <td>''</td>\n",
              "      <td>''</td>\n",
              "      <td>''</td>\n",
              "      <td>0.0</td>\n",
              "      <td>0.0</td>\n",
              "      <td>START Primary Collection</td>\n",
              "      <td>2017-12-31</td>\n",
              "    </tr>\n",
              "    <tr>\n",
              "      <th>2017</th>\n",
              "      <td>31</td>\n",
              "      <td>12</td>\n",
              "      <td>13.0</td>\n",
              "      <td>Iraq</td>\n",
              "      <td>0.0</td>\n",
              "      <td>Middle East &amp; North Africa</td>\n",
              "      <td>Diyala</td>\n",
              "      <td>Muqdadiyah</td>\n",
              "      <td>0.0</td>\n",
              "      <td>0.0</td>\n",
              "      <td>...</td>\n",
              "      <td>''</td>\n",
              "      <td>''</td>\n",
              "      <td>''</td>\n",
              "      <td>''</td>\n",
              "      <td>''</td>\n",
              "      <td>''</td>\n",
              "      <td>0.0</td>\n",
              "      <td>0.0</td>\n",
              "      <td>START Primary Collection</td>\n",
              "      <td>2017-12-31</td>\n",
              "    </tr>\n",
              "    <tr>\n",
              "      <th>2017</th>\n",
              "      <td>31</td>\n",
              "      <td>12</td>\n",
              "      <td>5.0</td>\n",
              "      <td>Afghanistan</td>\n",
              "      <td>0.0</td>\n",
              "      <td>South Asia</td>\n",
              "      <td>Logar</td>\n",
              "      <td>Mohammad Agha district</td>\n",
              "      <td>0.0</td>\n",
              "      <td>0.0</td>\n",
              "      <td>...</td>\n",
              "      <td>''</td>\n",
              "      <td>''</td>\n",
              "      <td>''</td>\n",
              "      <td>''</td>\n",
              "      <td>Personal claim</td>\n",
              "      <td>Minor (likely &lt; $1 million)</td>\n",
              "      <td>3.0</td>\n",
              "      <td>-99.0</td>\n",
              "      <td>START Primary Collection</td>\n",
              "      <td>2017-12-31</td>\n",
              "    </tr>\n",
              "    <tr>\n",
              "      <th>2017</th>\n",
              "      <td>31</td>\n",
              "      <td>12</td>\n",
              "      <td>18.0</td>\n",
              "      <td>Afghanistan</td>\n",
              "      <td>14.0</td>\n",
              "      <td>South Asia</td>\n",
              "      <td>Nangarhar</td>\n",
              "      <td>Jalalabad</td>\n",
              "      <td>0.0</td>\n",
              "      <td>0.0</td>\n",
              "      <td>...</td>\n",
              "      <td>''</td>\n",
              "      <td>''</td>\n",
              "      <td>''</td>\n",
              "      <td>''</td>\n",
              "      <td>''</td>\n",
              "      <td>''</td>\n",
              "      <td>0.0</td>\n",
              "      <td>0.0</td>\n",
              "      <td>START Primary Collection</td>\n",
              "      <td>2017-12-31</td>\n",
              "    </tr>\n",
              "    <tr>\n",
              "      <th>2017</th>\n",
              "      <td>31</td>\n",
              "      <td>12</td>\n",
              "      <td>0.0</td>\n",
              "      <td>Philippines</td>\n",
              "      <td>0.0</td>\n",
              "      <td>Southeast Asia</td>\n",
              "      <td>Maguindanao</td>\n",
              "      <td>Cotabato City</td>\n",
              "      <td>0.0</td>\n",
              "      <td>0.0</td>\n",
              "      <td>...</td>\n",
              "      <td>''</td>\n",
              "      <td>''</td>\n",
              "      <td>''</td>\n",
              "      <td>''</td>\n",
              "      <td>''</td>\n",
              "      <td>''</td>\n",
              "      <td>0.0</td>\n",
              "      <td>0.0</td>\n",
              "      <td>START Primary Collection</td>\n",
              "      <td>2017-12-31</td>\n",
              "    </tr>\n",
              "  </tbody>\n",
              "</table>\n",
              "<p>180800 rows × 49 columns</p>\n",
              "</div>"
            ],
            "text/plain": [
              "       iday  imonth  nkill    country_txt  nwound                  region_txt  \\\n",
              "iyear                                                                           \n",
              "1970      1       1    0.0  United States     0.0               North America   \n",
              "1970      1       1    0.0  United States     0.0               North America   \n",
              "1970      2       1    0.0        Uruguay     0.0               South America   \n",
              "1970      2       1    0.0  United States     0.0               North America   \n",
              "1970      2       1    0.0  United States     0.0               North America   \n",
              "...     ...     ...    ...            ...     ...                         ...   \n",
              "2017     31      12    0.0        Somalia     0.0          Sub-Saharan Africa   \n",
              "2017     31      12   13.0           Iraq     0.0  Middle East & North Africa   \n",
              "2017     31      12    5.0    Afghanistan     0.0                  South Asia   \n",
              "2017     31      12   18.0    Afghanistan    14.0                  South Asia   \n",
              "2017     31      12    0.0    Philippines     0.0              Southeast Asia   \n",
              "\n",
              "         provstate                    city  nkillus  nwoundus  ...  \\\n",
              "iyear                                                          ...   \n",
              "1970      Illinois                   Cairo      0.0       0.0  ...   \n",
              "1970     Wisconsin                 Baraboo      0.0       0.0  ...   \n",
              "1970    Montevideo              Montevideo      0.0       0.0  ...   \n",
              "1970    California                 Oakland      0.0       0.0  ...   \n",
              "1970     Wisconsin                 Madison      0.0       0.0  ...   \n",
              "...            ...                     ...      ...       ...  ...   \n",
              "2017        Bakool                   Wajid      0.0       0.0  ...   \n",
              "2017        Diyala              Muqdadiyah      0.0       0.0  ...   \n",
              "2017         Logar  Mohammad Agha district      0.0       0.0  ...   \n",
              "2017     Nangarhar               Jalalabad      0.0       0.0  ...   \n",
              "2017   Maguindanao           Cotabato City      0.0       0.0  ...   \n",
              "\n",
              "      targtype2_txt  targsubtype2_txt  targtype3_txt targsubtype3_txt  \\\n",
              "iyear                                                                   \n",
              "1970             ''                ''             ''               ''   \n",
              "1970             ''                ''             ''               ''   \n",
              "1970             ''                ''             ''               ''   \n",
              "1970             ''                ''             ''               ''   \n",
              "1970             ''                ''             ''               ''   \n",
              "...             ...               ...            ...              ...   \n",
              "2017             ''                ''             ''               ''   \n",
              "2017             ''                ''             ''               ''   \n",
              "2017             ''                ''             ''               ''   \n",
              "2017             ''                ''             ''               ''   \n",
              "2017             ''                ''             ''               ''   \n",
              "\n",
              "        claimmode_txt               propextent_txt  propextent  propvalue  \\\n",
              "iyear                                                                       \n",
              "1970               ''  Minor (likely < $1 million)         3.0        0.0   \n",
              "1970               ''  Minor (likely < $1 million)         3.0        0.0   \n",
              "1970               ''                           ''         0.0        0.0   \n",
              "1970               ''  Minor (likely < $1 million)         3.0    22500.0   \n",
              "1970           Letter  Minor (likely < $1 million)         3.0    60000.0   \n",
              "...               ...                          ...         ...        ...   \n",
              "2017               ''                           ''         0.0        0.0   \n",
              "2017               ''                           ''         0.0        0.0   \n",
              "2017   Personal claim  Minor (likely < $1 million)         3.0      -99.0   \n",
              "2017               ''                           ''         0.0        0.0   \n",
              "2017               ''                           ''         0.0        0.0   \n",
              "\n",
              "                       dbsource        date  \n",
              "iyear                                        \n",
              "1970             Hewitt Project  1970-01-01  \n",
              "1970                       PGIS  1970-01-01  \n",
              "1970                       PGIS  1970-01-02  \n",
              "1970             Hewitt Project  1970-01-02  \n",
              "1970             Hewitt Project  1970-01-02  \n",
              "...                         ...         ...  \n",
              "2017   START Primary Collection  2017-12-31  \n",
              "2017   START Primary Collection  2017-12-31  \n",
              "2017   START Primary Collection  2017-12-31  \n",
              "2017   START Primary Collection  2017-12-31  \n",
              "2017   START Primary Collection  2017-12-31  \n",
              "\n",
              "[180800 rows x 49 columns]"
            ]
          },
          "execution_count": 48,
          "metadata": {},
          "output_type": "execute_result"
        }
      ],
      "source": [
        "# df.set_index('iyear')"
      ]
    },
    {
      "cell_type": "code",
      "execution_count": 113,
      "metadata": {},
      "outputs": [
        {
          "data": {
            "text/html": [
              "<div>\n",
              "<style scoped>\n",
              "    .dataframe tbody tr th:only-of-type {\n",
              "        vertical-align: middle;\n",
              "    }\n",
              "\n",
              "    .dataframe tbody tr th {\n",
              "        vertical-align: top;\n",
              "    }\n",
              "\n",
              "    .dataframe thead th {\n",
              "        text-align: right;\n",
              "    }\n",
              "</style>\n",
              "<table border=\"1\" class=\"dataframe\">\n",
              "  <thead>\n",
              "    <tr style=\"text-align: right;\">\n",
              "      <th></th>\n",
              "      <th>eventid</th>\n",
              "      <th>extended</th>\n",
              "      <th>country</th>\n",
              "      <th>country_txt</th>\n",
              "      <th>region</th>\n",
              "      <th>region_txt</th>\n",
              "      <th>provstate</th>\n",
              "      <th>city</th>\n",
              "      <th>latitude</th>\n",
              "      <th>longitude</th>\n",
              "      <th>...</th>\n",
              "      <th>weapsubtype1_txt</th>\n",
              "      <th>nkill</th>\n",
              "      <th>nwound</th>\n",
              "      <th>property</th>\n",
              "      <th>ishostkid</th>\n",
              "      <th>dbsource</th>\n",
              "      <th>INT_LOG</th>\n",
              "      <th>INT_IDEO</th>\n",
              "      <th>INT_MISC</th>\n",
              "      <th>INT_ANY</th>\n",
              "    </tr>\n",
              "    <tr>\n",
              "      <th>date</th>\n",
              "      <th></th>\n",
              "      <th></th>\n",
              "      <th></th>\n",
              "      <th></th>\n",
              "      <th></th>\n",
              "      <th></th>\n",
              "      <th></th>\n",
              "      <th></th>\n",
              "      <th></th>\n",
              "      <th></th>\n",
              "      <th></th>\n",
              "      <th></th>\n",
              "      <th></th>\n",
              "      <th></th>\n",
              "      <th></th>\n",
              "      <th></th>\n",
              "      <th></th>\n",
              "      <th></th>\n",
              "      <th></th>\n",
              "      <th></th>\n",
              "      <th></th>\n",
              "    </tr>\n",
              "  </thead>\n",
              "  <tbody>\n",
              "    <tr>\n",
              "      <th>1970-01-01</th>\n",
              "      <td>197001010002</td>\n",
              "      <td>0</td>\n",
              "      <td>217</td>\n",
              "      <td>United States</td>\n",
              "      <td>1</td>\n",
              "      <td>North America</td>\n",
              "      <td>Illinois</td>\n",
              "      <td>Cairo</td>\n",
              "      <td>37.005105</td>\n",
              "      <td>-89.176269</td>\n",
              "      <td>...</td>\n",
              "      <td>Unknown Gun Type</td>\n",
              "      <td>0.0</td>\n",
              "      <td>0.0</td>\n",
              "      <td>1</td>\n",
              "      <td>0.0</td>\n",
              "      <td>Hewitt Project</td>\n",
              "      <td>-9</td>\n",
              "      <td>-9</td>\n",
              "      <td>0</td>\n",
              "      <td>-9</td>\n",
              "    </tr>\n",
              "    <tr>\n",
              "      <th>1970-01-01</th>\n",
              "      <td>197001050001</td>\n",
              "      <td>0</td>\n",
              "      <td>217</td>\n",
              "      <td>United States</td>\n",
              "      <td>1</td>\n",
              "      <td>North America</td>\n",
              "      <td>Wisconsin</td>\n",
              "      <td>Baraboo</td>\n",
              "      <td>43.468500</td>\n",
              "      <td>-89.744299</td>\n",
              "      <td>...</td>\n",
              "      <td>Unknown Explosive Type</td>\n",
              "      <td>0.0</td>\n",
              "      <td>0.0</td>\n",
              "      <td>0</td>\n",
              "      <td>0.0</td>\n",
              "      <td>PGIS</td>\n",
              "      <td>0</td>\n",
              "      <td>0</td>\n",
              "      <td>0</td>\n",
              "      <td>0</td>\n",
              "    </tr>\n",
              "    <tr>\n",
              "      <th>1970-01-02</th>\n",
              "      <td>197001020001</td>\n",
              "      <td>0</td>\n",
              "      <td>218</td>\n",
              "      <td>Uruguay</td>\n",
              "      <td>3</td>\n",
              "      <td>South America</td>\n",
              "      <td>Montevideo</td>\n",
              "      <td>Montevideo</td>\n",
              "      <td>-34.891151</td>\n",
              "      <td>-56.187214</td>\n",
              "      <td>...</td>\n",
              "      <td>Automatic or Semi-Automatic Rifle</td>\n",
              "      <td>0.0</td>\n",
              "      <td>0.0</td>\n",
              "      <td>0</td>\n",
              "      <td>0.0</td>\n",
              "      <td>PGIS</td>\n",
              "      <td>0</td>\n",
              "      <td>0</td>\n",
              "      <td>0</td>\n",
              "      <td>0</td>\n",
              "    </tr>\n",
              "    <tr>\n",
              "      <th>1970-01-02</th>\n",
              "      <td>197001020002</td>\n",
              "      <td>0</td>\n",
              "      <td>217</td>\n",
              "      <td>United States</td>\n",
              "      <td>1</td>\n",
              "      <td>North America</td>\n",
              "      <td>California</td>\n",
              "      <td>Oakland</td>\n",
              "      <td>37.791927</td>\n",
              "      <td>-122.225906</td>\n",
              "      <td>...</td>\n",
              "      <td>Unknown Explosive Type</td>\n",
              "      <td>0.0</td>\n",
              "      <td>0.0</td>\n",
              "      <td>1</td>\n",
              "      <td>0.0</td>\n",
              "      <td>Hewitt Project</td>\n",
              "      <td>-9</td>\n",
              "      <td>-9</td>\n",
              "      <td>0</td>\n",
              "      <td>-9</td>\n",
              "    </tr>\n",
              "    <tr>\n",
              "      <th>1970-01-02</th>\n",
              "      <td>197001020003</td>\n",
              "      <td>0</td>\n",
              "      <td>217</td>\n",
              "      <td>United States</td>\n",
              "      <td>1</td>\n",
              "      <td>North America</td>\n",
              "      <td>Wisconsin</td>\n",
              "      <td>Madison</td>\n",
              "      <td>43.076592</td>\n",
              "      <td>-89.412488</td>\n",
              "      <td>...</td>\n",
              "      <td>Molotov Cocktail/Petrol Bomb</td>\n",
              "      <td>0.0</td>\n",
              "      <td>0.0</td>\n",
              "      <td>1</td>\n",
              "      <td>0.0</td>\n",
              "      <td>Hewitt Project</td>\n",
              "      <td>0</td>\n",
              "      <td>0</td>\n",
              "      <td>0</td>\n",
              "      <td>0</td>\n",
              "    </tr>\n",
              "  </tbody>\n",
              "</table>\n",
              "<p>5 rows × 44 columns</p>\n",
              "</div>"
            ],
            "text/plain": [
              "                 eventid  extended  country    country_txt  region  \\\n",
              "date                                                                 \n",
              "1970-01-01  197001010002         0      217  United States       1   \n",
              "1970-01-01  197001050001         0      217  United States       1   \n",
              "1970-01-02  197001020001         0      218        Uruguay       3   \n",
              "1970-01-02  197001020002         0      217  United States       1   \n",
              "1970-01-02  197001020003         0      217  United States       1   \n",
              "\n",
              "               region_txt   provstate        city   latitude   longitude  ...  \\\n",
              "date                                                                      ...   \n",
              "1970-01-01  North America    Illinois       Cairo  37.005105  -89.176269  ...   \n",
              "1970-01-01  North America   Wisconsin     Baraboo  43.468500  -89.744299  ...   \n",
              "1970-01-02  South America  Montevideo  Montevideo -34.891151  -56.187214  ...   \n",
              "1970-01-02  North America  California     Oakland  37.791927 -122.225906  ...   \n",
              "1970-01-02  North America   Wisconsin     Madison  43.076592  -89.412488  ...   \n",
              "\n",
              "                             weapsubtype1_txt  nkill  nwound  property  \\\n",
              "date                                                                     \n",
              "1970-01-01                   Unknown Gun Type    0.0     0.0         1   \n",
              "1970-01-01             Unknown Explosive Type    0.0     0.0         0   \n",
              "1970-01-02  Automatic or Semi-Automatic Rifle    0.0     0.0         0   \n",
              "1970-01-02             Unknown Explosive Type    0.0     0.0         1   \n",
              "1970-01-02       Molotov Cocktail/Petrol Bomb    0.0     0.0         1   \n",
              "\n",
              "            ishostkid        dbsource  INT_LOG  INT_IDEO  INT_MISC  INT_ANY  \n",
              "date                                                                         \n",
              "1970-01-01        0.0  Hewitt Project       -9        -9         0       -9  \n",
              "1970-01-01        0.0            PGIS        0         0         0        0  \n",
              "1970-01-02        0.0            PGIS        0         0         0        0  \n",
              "1970-01-02        0.0  Hewitt Project       -9        -9         0       -9  \n",
              "1970-01-02        0.0  Hewitt Project        0         0         0        0  \n",
              "\n",
              "[5 rows x 44 columns]"
            ]
          },
          "execution_count": 113,
          "metadata": {},
          "output_type": "execute_result"
        }
      ],
      "source": [
        "df.head()"
      ]
    },
    {
      "cell_type": "code",
      "execution_count": 91,
      "metadata": {},
      "outputs": [],
      "source": [
        "# df.sort_values('iyear', inplace = True)"
      ]
    },
    {
      "cell_type": "code",
      "execution_count": 92,
      "metadata": {},
      "outputs": [],
      "source": [
        "# df = df[[\"iyear\", \"nkill\", \"country_txt\"]]"
      ]
    },
    {
      "cell_type": "code",
      "execution_count": 114,
      "metadata": {
        "id": "OGvbXc3iRZIJ"
      },
      "outputs": [],
      "source": [
        "def convert(df,list):\n",
        "  for i in list:\n",
        "    df[i] = df[i].astype('category')\n"
      ]
    },
    {
      "cell_type": "code",
      "execution_count": 115,
      "metadata": {
        "id": "Az5sKPM7RY-s"
      },
      "outputs": [],
      "source": [
        "list=['country','region','provstate','city','specificity','vicinity','crit1','crit2','crit3','doubtterr','multiple','success','suicide','attacktype1','targtype1',\n",
        "      'natlty1','gname','guncertain1','individual','weaptype1','weapsubtype1','property','ishostkid','dbsource'\t]\n",
        "\n",
        "convert(df,list)"
      ]
    },
    {
      "cell_type": "code",
      "execution_count": 95,
      "metadata": {},
      "outputs": [],
      "source": [
        "# from sklearn import preprocessing"
      ]
    },
    {
      "cell_type": "code",
      "execution_count": 96,
      "metadata": {},
      "outputs": [],
      "source": [
        "# label_encoder = preprocessing.LabelEncoder()\n",
        "# df['country'] = label_encoder.fit_transform(df['country_txt'])"
      ]
    },
    {
      "cell_type": "code",
      "execution_count": 97,
      "metadata": {},
      "outputs": [],
      "source": [
        "# scaler = MinMaxScaler()\n",
        "# df['country'] = scaler.fit_transform(df[['country']])"
      ]
    },
    {
      "cell_type": "code",
      "execution_count": 98,
      "metadata": {},
      "outputs": [],
      "source": [
        "# train = df[df[\"iyear\"] < 2010]\n",
        "# test = df[df[\"iyear\"] >= 2010]\n",
        "\n",
        "# train.set_index('iyear', inplace = True)\n",
        "# test.set_index('iyear', inplace=True)\n",
        "# plt.plot(train['nkill'], color = \"black\")\n",
        "# plt.plot(test['nkill'], color = \"red\")\n",
        "# plt.ylabel('nkill')\n",
        "# # plt.xlabel('Annee')\n",
        "# plt.xticks(rotation=45)\n",
        "# plt.title(\"Train/Test split nkill\")\n",
        "# plt.show()"
      ]
    },
    {
      "cell_type": "code",
      "execution_count": 99,
      "metadata": {},
      "outputs": [],
      "source": [
        "# train"
      ]
    },
    {
      "cell_type": "code",
      "execution_count": 116,
      "metadata": {
        "id": "z4i6tgMbRY59"
      },
      "outputs": [],
      "source": [
        "from sklearn import preprocessing\n",
        "\n",
        "def enc(df,lt):\n",
        "  for i in lt:\n",
        "    label_encoder = preprocessing.LabelEncoder() \n",
        "    df[i]= label_encoder.fit_transform(df[i])"
      ]
    },
    {
      "cell_type": "code",
      "execution_count": 117,
      "metadata": {
        "id": "pLj4XvCkRYwm"
      },
      "outputs": [],
      "source": [
        "lt=['provstate','city',\n",
        "      'gname','dbsource']\n",
        "enc(df,lt)"
      ]
    },
    {
      "cell_type": "code",
      "execution_count": 118,
      "metadata": {},
      "outputs": [],
      "source": [
        "df.drop(labels=df.select_dtypes('object').columns, inplace=True, axis=1)"
      ]
    },
    {
      "cell_type": "code",
      "execution_count": 119,
      "metadata": {},
      "outputs": [],
      "source": [
        "X=df.columns.tolist()\n"
      ]
    },
    {
      "cell_type": "code",
      "execution_count": 120,
      "metadata": {},
      "outputs": [],
      "source": [
        "# scaler_nkill = MinMaxScaler()"
      ]
    },
    {
      "cell_type": "code",
      "execution_count": 121,
      "metadata": {},
      "outputs": [],
      "source": [
        "nkill = df[[\"nkill\"]]"
      ]
    },
    {
      "cell_type": "code",
      "execution_count": 122,
      "metadata": {},
      "outputs": [
        {
          "data": {
            "text/html": [
              "<div>\n",
              "<style scoped>\n",
              "    .dataframe tbody tr th:only-of-type {\n",
              "        vertical-align: middle;\n",
              "    }\n",
              "\n",
              "    .dataframe tbody tr th {\n",
              "        vertical-align: top;\n",
              "    }\n",
              "\n",
              "    .dataframe thead th {\n",
              "        text-align: right;\n",
              "    }\n",
              "</style>\n",
              "<table border=\"1\" class=\"dataframe\">\n",
              "  <thead>\n",
              "    <tr style=\"text-align: right;\">\n",
              "      <th></th>\n",
              "      <th>nkill</th>\n",
              "    </tr>\n",
              "    <tr>\n",
              "      <th>date</th>\n",
              "      <th></th>\n",
              "    </tr>\n",
              "  </thead>\n",
              "  <tbody>\n",
              "    <tr>\n",
              "      <th>1970-01-01</th>\n",
              "      <td>0.0</td>\n",
              "    </tr>\n",
              "    <tr>\n",
              "      <th>1970-01-01</th>\n",
              "      <td>0.0</td>\n",
              "    </tr>\n",
              "    <tr>\n",
              "      <th>1970-01-02</th>\n",
              "      <td>0.0</td>\n",
              "    </tr>\n",
              "    <tr>\n",
              "      <th>1970-01-02</th>\n",
              "      <td>0.0</td>\n",
              "    </tr>\n",
              "    <tr>\n",
              "      <th>1970-01-02</th>\n",
              "      <td>0.0</td>\n",
              "    </tr>\n",
              "    <tr>\n",
              "      <th>...</th>\n",
              "      <td>...</td>\n",
              "    </tr>\n",
              "    <tr>\n",
              "      <th>2017-12-31</th>\n",
              "      <td>0.0</td>\n",
              "    </tr>\n",
              "    <tr>\n",
              "      <th>2017-12-31</th>\n",
              "      <td>0.0</td>\n",
              "    </tr>\n",
              "    <tr>\n",
              "      <th>2017-12-31</th>\n",
              "      <td>2.0</td>\n",
              "    </tr>\n",
              "    <tr>\n",
              "      <th>2017-12-31</th>\n",
              "      <td>5.0</td>\n",
              "    </tr>\n",
              "    <tr>\n",
              "      <th>2017-12-31</th>\n",
              "      <td>0.0</td>\n",
              "    </tr>\n",
              "  </tbody>\n",
              "</table>\n",
              "<p>180800 rows × 1 columns</p>\n",
              "</div>"
            ],
            "text/plain": [
              "            nkill\n",
              "date             \n",
              "1970-01-01    0.0\n",
              "1970-01-01    0.0\n",
              "1970-01-02    0.0\n",
              "1970-01-02    0.0\n",
              "1970-01-02    0.0\n",
              "...           ...\n",
              "2017-12-31    0.0\n",
              "2017-12-31    0.0\n",
              "2017-12-31    2.0\n",
              "2017-12-31    5.0\n",
              "2017-12-31    0.0\n",
              "\n",
              "[180800 rows x 1 columns]"
            ]
          },
          "execution_count": 122,
          "metadata": {},
          "output_type": "execute_result"
        }
      ],
      "source": [
        "nkill"
      ]
    },
    {
      "cell_type": "code",
      "execution_count": 17,
      "metadata": {},
      "outputs": [],
      "source": [
        "# df_kill = scaler_nkill.fit_transform(nkill)"
      ]
    },
    {
      "cell_type": "code",
      "execution_count": 18,
      "metadata": {},
      "outputs": [],
      "source": [
        "# df_kill"
      ]
    },
    {
      "cell_type": "code",
      "execution_count": 19,
      "metadata": {},
      "outputs": [],
      "source": [
        "# nkill=pd.DataFrame(df_kill) \n",
        "# nkill.index=df.index\n",
        "# nkill"
      ]
    },
    {
      "cell_type": "code",
      "execution_count": 20,
      "metadata": {},
      "outputs": [],
      "source": [
        "# nkill.rename(columns={0: \"nkill\"}, inplace = True)"
      ]
    },
    {
      "cell_type": "code",
      "execution_count": 21,
      "metadata": {
        "id": "p_sDEOqoaVNy"
      },
      "outputs": [],
      "source": [
        "# df_minmax.to_csv('/content/drive/MyDrive/MasterIA/Datacamp/terror.csv',encoding = \"ISO-8859-1\", index = False)"
      ]
    },
    {
      "cell_type": "code",
      "execution_count": 22,
      "metadata": {
        "colab": {
          "base_uri": "https://localhost:8080/",
          "height": 693
        },
        "id": "qc4aWgSsXLnP",
        "outputId": "f43b83d4-f384-40b8-b29b-fd03784a1b3e"
      },
      "outputs": [],
      "source": [
        "# df=pd.read_csv('/content/drive/MyDrive/MasterIA/Datacamp/terror.csv',encoding = \"ISO-8859-1\",index_col='date',parse_dates=True)\n",
        "\n",
        "# df"
      ]
    },
    {
      "cell_type": "code",
      "execution_count": 23,
      "metadata": {},
      "outputs": [],
      "source": [
        "# df.head()"
      ]
    },
    {
      "cell_type": "code",
      "execution_count": 123,
      "metadata": {},
      "outputs": [],
      "source": [
        "df = nkill"
      ]
    },
    {
      "cell_type": "code",
      "execution_count": 124,
      "metadata": {
        "colab": {
          "base_uri": "https://localhost:8080/",
          "height": 310
        },
        "id": "T_RAwwMhUl1t",
        "outputId": "afc54e6c-d92f-4aa5-8bca-58ac35552efe"
      },
      "outputs": [
        {
          "data": {
            "image/png": "[encoded data removed]",
            "text/plain": [
              "<Figure size 432x288 with 1 Axes>"
            ]
          },
          "metadata": {
            "needs_background": "light"
          },
          "output_type": "display_data"
        }
      ],
      "source": [
        "train = df[df.index < pd.to_datetime(\"2010-12-31\", format='%Y-%m-%d')]\n",
        "test = df[df.index > pd.to_datetime(\"2010-12-31\", format='%Y-%m-%d')]\n",
        "\n",
        "plt.plot(train, color = \"black\")\n",
        "plt.plot(test, color = \"red\")\n",
        "plt.ylabel('nkill')\n",
        "plt.xlabel('Date')\n",
        "plt.xticks(rotation=45)\n",
        "plt.title(\"Train/Test split nkill\")\n",
        "plt.show()"
      ]
    },
    {
      "cell_type": "code",
      "execution_count": 26,
      "metadata": {
        "colab": {
          "base_uri": "https://localhost:8080/"
        },
        "id": "SGe0aO4hTrBY",
        "outputId": "7f29e188-0b0b-425f-8bb5-8adcf09c13f5"
      },
      "outputs": [],
      "source": [
        "#pip install pmdarima\n",
        "  \n",
        "# from pmdarima import auto_arima\n",
        "  \n",
        "# import warnings\n",
        "# warnings.filterwarnings(\"ignore\")\n",
        "  \n",
        "# stepwise_fit = auto_arima(train['nkill'], start_p = 1, start_q = 1,\n",
        "#                           max_p = 3, max_q = 3, m = 12,\n",
        "#                           start_P = 0, seasonal = True,\n",
        "#                           d = None, D = 1, trace = True,\n",
        "#                           error_action ='ignore',  \n",
        "#                           suppress_warnings = True, \n",
        "#                           stepwise = True)          \n",
        "  \n",
        "# stepwise_fit.summary()"
      ]
    },
    {
      "cell_type": "markdown",
      "metadata": {
        "id": "q-hz_ZWIeq1A"
      },
      "source": []
    },
    {
      "cell_type": "markdown",
      "metadata": {
        "id": "bUs4DPo8fnPl"
      },
      "source": [
        "ARMA model"
      ]
    },
    {
      "cell_type": "code",
      "execution_count": 126,
      "metadata": {},
      "outputs": [
        {
          "data": {
            "text/html": [
              "<div>\n",
              "<style scoped>\n",
              "    .dataframe tbody tr th:only-of-type {\n",
              "        vertical-align: middle;\n",
              "    }\n",
              "\n",
              "    .dataframe tbody tr th {\n",
              "        vertical-align: top;\n",
              "    }\n",
              "\n",
              "    .dataframe thead th {\n",
              "        text-align: right;\n",
              "    }\n",
              "</style>\n",
              "<table border=\"1\" class=\"dataframe\">\n",
              "  <thead>\n",
              "    <tr style=\"text-align: right;\">\n",
              "      <th></th>\n",
              "      <th>nkill</th>\n",
              "    </tr>\n",
              "    <tr>\n",
              "      <th>date</th>\n",
              "      <th></th>\n",
              "    </tr>\n",
              "  </thead>\n",
              "  <tbody>\n",
              "    <tr>\n",
              "      <th>1970-01-01</th>\n",
              "      <td>0.0</td>\n",
              "    </tr>\n",
              "    <tr>\n",
              "      <th>1970-01-01</th>\n",
              "      <td>0.0</td>\n",
              "    </tr>\n",
              "    <tr>\n",
              "      <th>1970-01-02</th>\n",
              "      <td>0.0</td>\n",
              "    </tr>\n",
              "    <tr>\n",
              "      <th>1970-01-02</th>\n",
              "      <td>0.0</td>\n",
              "    </tr>\n",
              "    <tr>\n",
              "      <th>1970-01-02</th>\n",
              "      <td>0.0</td>\n",
              "    </tr>\n",
              "  </tbody>\n",
              "</table>\n",
              "</div>"
            ],
            "text/plain": [
              "            nkill\n",
              "date             \n",
              "1970-01-01    0.0\n",
              "1970-01-01    0.0\n",
              "1970-01-02    0.0\n",
              "1970-01-02    0.0\n",
              "1970-01-02    0.0"
            ]
          },
          "execution_count": 126,
          "metadata": {},
          "output_type": "execute_result"
        }
      ],
      "source": [
        "df.head()"
      ]
    },
    {
      "cell_type": "code",
      "execution_count": 111,
      "metadata": {},
      "outputs": [
        {
          "data": {
            "text/plain": [
              "98864"
            ]
          },
          "execution_count": 111,
          "metadata": {},
          "output_type": "execute_result"
        }
      ],
      "source": [
        "y_pred_df.index[0]"
      ]
    },
    {
      "cell_type": "code",
      "execution_count": 127,
      "metadata": {
        "colab": {
          "base_uri": "https://localhost:8080/",
          "height": 441
        },
        "id": "MIqhfwkneCXB",
        "outputId": "0efd893b-4856-404c-b691-92a9ebfb7469"
      },
      "outputs": [
        {
          "name": "stderr",
          "output_type": "stream",
          "text": [
            "c:\\Users\\Oumar Kane\\AppData\\Local\\Programs\\Python\\Python39\\lib\\site-packages\\statsmodels\\tsa\\base\\tsa_model.py:471: ValueWarning: A date index has been provided, but it has no associated frequency information and so will be ignored when e.g. forecasting.\n",
            "  self._init_dates(dates, freq)\n",
            "c:\\Users\\Oumar Kane\\AppData\\Local\\Programs\\Python\\Python39\\lib\\site-packages\\statsmodels\\tsa\\base\\tsa_model.py:471: ValueWarning: A date index has been provided, but it has no associated frequency information and so will be ignored when e.g. forecasting.\n",
            "  self._init_dates(dates, freq)\n",
            "c:\\Users\\Oumar Kane\\AppData\\Local\\Programs\\Python\\Python39\\lib\\site-packages\\statsmodels\\tsa\\base\\tsa_model.py:834: ValueWarning: No supported index is available. Prediction results will be given with an integer index beginning at `start`.\n",
            "  return get_prediction_index(\n",
            "c:\\Users\\Oumar Kane\\AppData\\Local\\Programs\\Python\\Python39\\lib\\site-packages\\statsmodels\\tsa\\base\\tsa_model.py:834: ValueWarning: No supported index is available. Prediction results will be given with an integer index beginning at `start`.\n",
            "  return get_prediction_index(\n"
          ]
        },
        {
          "ename": "NameError",
          "evalue": "name 'np' is not defined",
          "output_type": "error",
          "traceback": [
            "\u001b[1;31m---------------------------------------------------------------------------\u001b[0m",
            "\u001b[1;31mNameError\u001b[0m                                 Traceback (most recent call last)",
            "\u001b[1;32mC:\\Users\\OUMARK~1\\AppData\\Local\\Temp/ipykernel_15452/1717114699.py\u001b[0m in \u001b[0;36m<module>\u001b[1;34m\u001b[0m\n\u001b[0;32m     13\u001b[0m \u001b[1;31m# plt.plot(y_pred_out, color='green', label = 'Predictions')\u001b[0m\u001b[1;33m\u001b[0m\u001b[1;33m\u001b[0m\u001b[0m\n\u001b[0;32m     14\u001b[0m \u001b[1;31m# plt.legend()\u001b[0m\u001b[1;33m\u001b[0m\u001b[1;33m\u001b[0m\u001b[0m\n\u001b[1;32m---> 15\u001b[1;33m \u001b[0mnp\u001b[0m\u001b[1;33m.\u001b[0m\u001b[0marray\u001b[0m\u001b[1;33m(\u001b[0m\u001b[0mpredictions\u001b[0m\u001b[1;33m)\u001b[0m\u001b[1;33m\u001b[0m\u001b[1;33m\u001b[0m\u001b[0m\n\u001b[0m",
            "\u001b[1;31mNameError\u001b[0m: name 'np' is not defined"
          ]
        }
      ],
      "source": [
        "from statsmodels.tsa.statespace.sarimax import SARIMAX\n",
        "\n",
        "y=train['nkill']\n",
        "ARMAmodel = SARIMAX(y, order = (1, 0, 1))\n",
        "ARMAmodel = ARMAmodel.fit()\n",
        "\n",
        "y_pred = ARMAmodel.get_forecast(2000000)\n",
        "y_pred_df = y_pred.conf_int(alpha = 0.05) \n",
        "predictions = ARMAmodel.predict(start = y_pred_df.index[0], end = y_pred_df.index[-1])\n",
        "# y_pred_df.index = test.index\n",
        "# y_pred_out = y_pred_df[\"Predictions\"] \n",
        "\n",
        "# plt.plot(y_pred_out, color='green', label = 'Predictions')\n",
        "# plt.legend()\n",
        "np.array(predictions)"
      ]
    },
    {
      "cell_type": "code",
      "execution_count": 108,
      "metadata": {},
      "outputs": [
        {
          "data": {
            "text/plain": [
              "81931"
            ]
          },
          "execution_count": 108,
          "metadata": {},
          "output_type": "execute_result"
        }
      ],
      "source": [
        "test.index.__len__()"
      ]
    },
    {
      "cell_type": "code",
      "execution_count": 83,
      "metadata": {},
      "outputs": [
        {
          "name": "stderr",
          "output_type": "stream",
          "text": [
            "c:\\Users\\Oumar Kane\\AppData\\Local\\Programs\\Python\\Python39\\lib\\site-packages\\statsmodels\\tsa\\base\\tsa_model.py:471: ValueWarning: An unsupported index was provided and will be ignored when e.g. forecasting.\n",
            "  self._init_dates(dates, freq)\n",
            "c:\\Users\\Oumar Kane\\AppData\\Local\\Programs\\Python\\Python39\\lib\\site-packages\\statsmodels\\tsa\\base\\tsa_model.py:471: ValueWarning: An unsupported index was provided and will be ignored when e.g. forecasting.\n",
            "  self._init_dates(dates, freq)\n"
          ]
        }
      ],
      "source": [
        "# sar = pd.DataFrame(train[\"nkill\"])\n",
        "model = SARIMAX(train['nkill'], order = (1, 0, 1), exog=train['country'])"
      ]
    },
    {
      "cell_type": "code",
      "execution_count": 84,
      "metadata": {},
      "outputs": [
        {
          "data": {
            "text/plain": [
              "<statsmodels.tsa.statespace.sarimax.SARIMAXResultsWrapper at 0x26b125451c0>"
            ]
          },
          "execution_count": 84,
          "metadata": {},
          "output_type": "execute_result"
        }
      ],
      "source": [
        "model.fit()"
      ]
    },
    {
      "cell_type": "code",
      "execution_count": 85,
      "metadata": {},
      "outputs": [
        {
          "ename": "AttributeError",
          "evalue": "'SARIMAX' object has no attribute 'summary'",
          "output_type": "error",
          "traceback": [
            "\u001b[1;31m---------------------------------------------------------------------------\u001b[0m",
            "\u001b[1;31mAttributeError\u001b[0m                            Traceback (most recent call last)",
            "\u001b[1;32mC:\\Users\\OUMARK~1\\AppData\\Local\\Temp/ipykernel_15452/3470139634.py\u001b[0m in \u001b[0;36m<module>\u001b[1;34m\u001b[0m\n\u001b[1;32m----> 1\u001b[1;33m \u001b[0mmodel\u001b[0m\u001b[1;33m.\u001b[0m\u001b[0msummary\u001b[0m\u001b[1;33m(\u001b[0m\u001b[1;33m)\u001b[0m\u001b[1;33m\u001b[0m\u001b[1;33m\u001b[0m\u001b[0m\n\u001b[0m",
            "\u001b[1;31mAttributeError\u001b[0m: 'SARIMAX' object has no attribute 'summary'"
          ]
        }
      ],
      "source": [
        "start = test.index[0]-1\n",
        "end = test.index[-1]+1"
      ]
    },
    {
      "cell_type": "code",
      "execution_count": 38,
      "metadata": {},
      "outputs": [
        {
          "data": {
            "text/plain": [
              "1"
            ]
          },
          "execution_count": 38,
          "metadata": {},
          "output_type": "execute_result"
        }
      ],
      "source": [
        "int(Prediction)"
      ]
    },
    {
      "cell_type": "code",
      "execution_count": 138,
      "metadata": {
        "colab": {
          "base_uri": "https://localhost:8080/",
          "height": 430
        },
        "id": "ltVD0Oube4P6",
        "outputId": "f84e4558-96be-4a22-a5c8-7edc734dabb6"
      },
      "outputs": [
        {
          "data": {
            "text/html": [
              "<table class=\"simpletable\">\n",
              "<caption>SARIMAX Results</caption>\n",
              "<tr>\n",
              "  <th>Dep. Variable:</th>         <td>nkill</td>      <th>  No. Observations:  </th>    <td>98864</td>   \n",
              "</tr>\n",
              "<tr>\n",
              "  <th>Model:</th>           <td>SARIMAX(1, 0, 1)</td> <th>  Log Likelihood     </th> <td>-380940.973</td>\n",
              "</tr>\n",
              "<tr>\n",
              "  <th>Date:</th>            <td>Mon, 23 May 2022</td> <th>  AIC                </th> <td>761887.947</td> \n",
              "</tr>\n",
              "<tr>\n",
              "  <th>Time:</th>                <td>12:23:58</td>     <th>  BIC                </th> <td>761916.451</td> \n",
              "</tr>\n",
              "<tr>\n",
              "  <th>Sample:</th>                  <td>0</td>        <th>  HQIC               </th> <td>761896.601</td> \n",
              "</tr>\n",
              "<tr>\n",
              "  <th></th>                     <td> - 98864</td>     <th>                     </th>      <td> </td>     \n",
              "</tr>\n",
              "<tr>\n",
              "  <th>Covariance Type:</th>        <td>opg</td>       <th>                     </th>      <td> </td>     \n",
              "</tr>\n",
              "</table>\n",
              "<table class=\"simpletable\">\n",
              "<tr>\n",
              "     <td></td>       <th>coef</th>     <th>std err</th>      <th>z</th>      <th>P>|z|</th>  <th>[0.025</th>    <th>0.975]</th>  \n",
              "</tr>\n",
              "<tr>\n",
              "  <th>ar.L1</th>  <td>    0.9997</td> <td> 8.56e-05</td> <td> 1.17e+04</td> <td> 0.000</td> <td>    1.000</td> <td>    1.000</td>\n",
              "</tr>\n",
              "<tr>\n",
              "  <th>ma.L1</th>  <td>   -0.9951</td> <td>    0.000</td> <td>-8365.319</td> <td> 0.000</td> <td>   -0.995</td> <td>   -0.995</td>\n",
              "</tr>\n",
              "<tr>\n",
              "  <th>sigma2</th> <td>  130.1187</td> <td>    0.017</td> <td> 7586.690</td> <td> 0.000</td> <td>  130.085</td> <td>  130.152</td>\n",
              "</tr>\n",
              "</table>\n",
              "<table class=\"simpletable\">\n",
              "<tr>\n",
              "  <th>Ljung-Box (L1) (Q):</th>     <td>211.68</td> <th>  Jarque-Bera (JB):  </th> <td>131717671778.26</td>\n",
              "</tr>\n",
              "<tr>\n",
              "  <th>Prob(Q):</th>                 <td>0.00</td>  <th>  Prob(JB):          </th>      <td>0.00</td>      \n",
              "</tr>\n",
              "<tr>\n",
              "  <th>Heteroskedasticity (H):</th>  <td>2.89</td>  <th>  Skew:              </th>      <td>55.06</td>     \n",
              "</tr>\n",
              "<tr>\n",
              "  <th>Prob(H) (two-sided):</th>     <td>0.00</td>  <th>  Kurtosis:          </th>     <td>5656.61</td>    \n",
              "</tr>\n",
              "</table><br/><br/>Warnings:<br/>[1] Covariance matrix calculated using the outer product of gradients (complex-step)."
            ],
            "text/plain": [
              "<class 'statsmodels.iolib.summary.Summary'>\n",
              "\"\"\"\n",
              "                               SARIMAX Results                                \n",
              "==============================================================================\n",
              "Dep. Variable:                  nkill   No. Observations:                98864\n",
              "Model:               SARIMAX(1, 0, 1)   Log Likelihood             -380940.973\n",
              "Date:                Mon, 23 May 2022   AIC                         761887.947\n",
              "Time:                        12:23:58   BIC                         761916.451\n",
              "Sample:                             0   HQIC                        761896.601\n",
              "                              - 98864                                         \n",
              "Covariance Type:                  opg                                         \n",
              "==============================================================================\n",
              "                 coef    std err          z      P>|z|      [0.025      0.975]\n",
              "------------------------------------------------------------------------------\n",
              "ar.L1          0.9997   8.56e-05   1.17e+04      0.000       1.000       1.000\n",
              "ma.L1         -0.9951      0.000  -8365.319      0.000      -0.995      -0.995\n",
              "sigma2       130.1187      0.017   7586.690      0.000     130.085     130.152\n",
              "===================================================================================\n",
              "Ljung-Box (L1) (Q):                 211.68   Jarque-Bera (JB):      131717671778.26\n",
              "Prob(Q):                              0.00   Prob(JB):                         0.00\n",
              "Heteroskedasticity (H):               2.89   Skew:                            55.06\n",
              "Prob(H) (two-sided):                  0.00   Kurtosis:                      5656.61\n",
              "===================================================================================\n",
              "\n",
              "Warnings:\n",
              "[1] Covariance matrix calculated using the outer product of gradients (complex-step).\n",
              "\"\"\""
            ]
          },
          "execution_count": 138,
          "metadata": {},
          "output_type": "execute_result"
        }
      ],
      "source": [
        "ARMAmodel.summary()"
      ]
    },
    {
      "cell_type": "code",
      "execution_count": 139,
      "metadata": {},
      "outputs": [
        {
          "data": {
            "text/plain": [
              "date\n",
              "2011-01-01     0.0\n",
              "2011-01-01     1.0\n",
              "2011-01-01    23.0\n",
              "2011-01-01     1.0\n",
              "2011-01-02     1.0\n",
              "2011-01-02     1.0\n",
              "2011-01-02     0.0\n",
              "2011-01-02     0.0\n",
              "2011-01-02     1.0\n",
              "2011-01-02     0.0\n",
              "Name: nkill, dtype: float64"
            ]
          },
          "execution_count": 139,
          "metadata": {},
          "output_type": "execute_result"
        }
      ],
      "source": [
        "test[\"nkill\"].head(10)"
      ]
    },
    {
      "cell_type": "code",
      "execution_count": 145,
      "metadata": {},
      "outputs": [],
      "source": [
        "predictions = np.array(y_pred_df[\"Predictions\"])"
      ]
    },
    {
      "cell_type": "code",
      "execution_count": 146,
      "metadata": {},
      "outputs": [
        {
          "data": {
            "text/plain": [
              "array([7.46374538e-10, 7.46569354e-10, 7.46764220e-10, ...,\n",
              "       1.44184380e+00, 1.44222014e+00, 1.44259659e+00])"
            ]
          },
          "execution_count": 146,
          "metadata": {},
          "output_type": "execute_result"
        }
      ],
      "source": [
        "np.unique(predictions)"
      ]
    },
    {
      "cell_type": "markdown",
      "metadata": {},
      "source": [
        "Transformation en entier"
      ]
    },
    {
      "cell_type": "code",
      "execution_count": 118,
      "metadata": {},
      "outputs": [
        {
          "data": {
            "text/plain": [
              "array([0], dtype=int64)"
            ]
          },
          "execution_count": 118,
          "metadata": {},
          "output_type": "execute_result"
        }
      ],
      "source": [
        "np.unique(np.(scaler_nkill.inverse_transform(predictions.reshape(predictions.shape[0], 1))))"
      ]
    },
    {
      "cell_type": "code",
      "execution_count": 147,
      "metadata": {
        "colab": {
          "base_uri": "https://localhost:8080/"
        },
        "id": "bEH64D00egHc",
        "outputId": "c807aa95-cbea-43d3-e7a1-60ec9e14d0a1"
      },
      "outputs": [
        {
          "name": "stdout",
          "output_type": "stream",
          "text": [
            "RMSE:  11.251402693251844\n"
          ]
        }
      ],
      "source": [
        "import numpy as np\n",
        "from sklearn.metrics import mean_squared_error\n",
        "\n",
        "arma_rmse = np.sqrt(mean_squared_error(test[\"nkill\"].values, y_pred_df[\"Predictions\"]))\n",
        "print(\"RMSE: \",arma_rmse)"
      ]
    },
    {
      "cell_type": "markdown",
      "metadata": {
        "id": "E6bHWsV9frmS"
      },
      "source": [
        "ARIMA model"
      ]
    },
    {
      "cell_type": "code",
      "execution_count": 148,
      "metadata": {
        "id": "R0Xz-BCyUwB7"
      },
      "outputs": [],
      "source": [
        "from statsmodels.tsa.arima.model import ARIMA"
      ]
    },
    {
      "cell_type": "code",
      "execution_count": 149,
      "metadata": {
        "colab": {
          "base_uri": "https://localhost:8080/",
          "height": 476
        },
        "id": "xeltLKZrWn-A",
        "outputId": "ad1aeb3e-2649-4656-df89-839a88efdaeb"
      },
      "outputs": [
        {
          "data": {
            "text/plain": [
              "<matplotlib.legend.Legend at 0x20b07e08070>"
            ]
          },
          "execution_count": 149,
          "metadata": {},
          "output_type": "execute_result"
        },
        {
          "data": {
            "image/png": "[encoded data removed]",
            "text/plain": [
              "<Figure size 432x288 with 1 Axes>"
            ]
          },
          "metadata": {
            "needs_background": "light"
          },
          "output_type": "display_data"
        }
      ],
      "source": [
        "y=train['nkill']\n",
        "ARIMAmodel = ARIMA(y, order = (2, 2, 2))\n",
        "ARIMAmodel = ARIMAmodel.fit()\n",
        "\n",
        "y_pred = ARIMAmodel.get_forecast(len(test.index))\n",
        "y_pred_df = y_pred.conf_int(alpha = 0.05) \n",
        "y_pred_df[\"Predictions\"] = ARIMAmodel.predict(start = y_pred_df.index[0], end = y_pred_df.index[-1])\n",
        "y_pred_df.index = test.index\n",
        "y_pred_out = y_pred_df[\"Predictions\"] \n",
        "plt.plot(y_pred_out, color='Yellow', label = 'ARIMA Predictions')\n",
        "plt.legend()\n",
        "\n",
        "\n"
      ]
    },
    {
      "cell_type": "code",
      "execution_count": 150,
      "metadata": {
        "colab": {
          "base_uri": "https://localhost:8080/"
        },
        "id": "mac7wlL2dYIm",
        "outputId": "b7908d36-2fbc-4576-927a-fe630ff31b08"
      },
      "outputs": [
        {
          "name": "stdout",
          "output_type": "stream",
          "text": [
            "RMSE:  102.00636517531136\n"
          ]
        }
      ],
      "source": [
        "import numpy as np\n",
        "from sklearn.metrics import mean_squared_error\n",
        "\n",
        "arma_rmse = np.sqrt(mean_squared_error(test[\"nkill\"].values, y_pred_df[\"Predictions\"]))\n",
        "print(\"RMSE: \",arma_rmse)"
      ]
    },
    {
      "cell_type": "markdown",
      "metadata": {},
      "source": [
        "Sauvegarde du modele"
      ]
    },
    {
      "cell_type": "code",
      "execution_count": 152,
      "metadata": {},
      "outputs": [],
      "source": [
        "# ARMAmodel.save('packages/modeles/ARMA/arma.pkl')"
      ]
    },
    {
      "cell_type": "markdown",
      "metadata": {},
      "source": [
        "save model with pickle"
      ]
    },
    {
      "cell_type": "code",
      "execution_count": 32,
      "metadata": {},
      "outputs": [],
      "source": [
        "import pickle\n",
        "with open('packages/modeles/ARMA/arma.txt', \"wb\") as f:\n",
        "    pick_model = pickle.Pickler(f)\n",
        "    pick_model.dump(ARMAmodel)"
      ]
    },
    {
      "cell_type": "markdown",
      "metadata": {},
      "source": []
    }
  ],
  "metadata": {
    "colab": {
      "collapsed_sections": [],
      "name": "Modelisation.ipynb",
      "provenance": []
    },
    "interpreter": {
      "hash": "fd5d4d329bd71e323d40c12d186ace3875d8f2fd33455b1c37afb6f17691a0de"
    },
    "kernelspec": {
      "display_name": "Python 3.9.7 64-bit",
      "language": "python",
      "name": "python3"
    },
    "language_info": {
      "codemirror_mode": {
        "name": "ipython",
        "version": 3
      },
      "file_extension": ".py",
      "mimetype": "text/x-python",
      "name": "python",
      "nbconvert_exporter": "python",
      "pygments_lexer": "ipython3",
      "version": "3.9.7"
    }
  },
  "nbformat": 4,
  "nbformat_minor": 0
}
